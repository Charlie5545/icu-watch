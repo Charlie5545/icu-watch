{
 "cells": [
  {
   "cell_type": "code",
   "execution_count": 1,
   "id": "6c3db6d8-3f30-46ae-9907-8b672c7cbe8f",
   "metadata": {},
   "outputs": [
    {
     "name": "stderr",
     "output_type": "stream",
     "text": [
      "2024-07-21 09:51:21.759959: I tensorflow/core/platform/cpu_feature_guard.cc:193] This TensorFlow binary is optimized with oneAPI Deep Neural Network Library (oneDNN) to use the following CPU instructions in performance-critical operations:  AVX2 FMA\n",
      "To enable them in other operations, rebuild TensorFlow with the appropriate compiler flags.\n",
      "2024-07-21 09:51:26.502636: W tensorflow/compiler/xla/stream_executor/platform/default/dso_loader.cc:64] Could not load dynamic library 'libnvinfer.so.7'; dlerror: libnvinfer.so.7: cannot open shared object file: No such file or directory; LD_LIBRARY_PATH: /usr/local/cuda/lib64:/usr/local/nccl2/lib:/usr/local/cuda/extras/CUPTI/lib64\n",
      "2024-07-21 09:51:26.504520: W tensorflow/compiler/xla/stream_executor/platform/default/dso_loader.cc:64] Could not load dynamic library 'libnvinfer_plugin.so.7'; dlerror: libnvinfer_plugin.so.7: cannot open shared object file: No such file or directory; LD_LIBRARY_PATH: /usr/local/cuda/lib64:/usr/local/nccl2/lib:/usr/local/cuda/extras/CUPTI/lib64\n",
      "2024-07-21 09:51:26.504549: W tensorflow/compiler/tf2tensorrt/utils/py_utils.cc:38] TF-TRT Warning: Cannot dlopen some TensorRT libraries. If you would like to use Nvidia GPU with TensorRT, please make sure the missing libraries mentioned above are installed properly.\n"
     ]
    }
   ],
   "source": [
    "import pandas as pd\n",
    "import seaborn as sns\n",
    "import numpy as np\n",
    "import matplotlib.pyplot as plt\n",
    "from sklearn.metrics import confusion_matrix\n",
    "from sklearn.ensemble import RandomForestClassifier\n",
    "from sklearn.model_selection import train_test_split\n",
    "from sklearn.linear_model import LogisticRegression\n",
    "from sklearn.impute import SimpleImputer\n",
    "from sklearn.impute import KNNImputer\n",
    "from sklearn.metrics import accuracy_score, precision_score, recall_score, f1_score\n",
    "from sklearn.metrics import confusion_matrix, roc_auc_score, mean_absolute_error, mean_squared_error\n",
    "from sklearn.model_selection import GridSearchCV\n",
    "from sklearn.preprocessing import StandardScaler, MinMaxScaler\n",
    "import scipy.stats as stats\n",
    "# import xgboost as xgb\n",
    "\n",
    "import random\n",
    "import tensorflow as tf\n",
    "from tensorflow.keras import layers, models, optimizers, regularizers\n",
    "from tensorflow.keras.models import Sequential, save_model\n",
    "from tensorflow.keras.layers import LSTM, Dense, Dropout, Normalization\n",
    "from tensorflow.keras.optimizers import Adam\n",
    "from tensorflow.keras.callbacks import EarlyStopping, ReduceLROnPlateau\n",
    "from sklearn.metrics import classification_report, confusion_matrix\n",
    "\n",
    "from sklearn.ensemble import RandomForestClassifier"
   ]
  },
  {
   "cell_type": "code",
   "execution_count": 2,
   "id": "c3c9869d-9453-46b4-b4c9-9fee2d15a32f",
   "metadata": {},
   "outputs": [
    {
     "data": {
      "text/html": [
       "<div>\n",
       "<style scoped>\n",
       "    .dataframe tbody tr th:only-of-type {\n",
       "        vertical-align: middle;\n",
       "    }\n",
       "\n",
       "    .dataframe tbody tr th {\n",
       "        vertical-align: top;\n",
       "    }\n",
       "\n",
       "    .dataframe thead th {\n",
       "        text-align: right;\n",
       "    }\n",
       "</style>\n",
       "<table border=\"1\" class=\"dataframe\">\n",
       "  <thead>\n",
       "    <tr style=\"text-align: right;\">\n",
       "      <th></th>\n",
       "      <th>Hour</th>\n",
       "      <th>HR</th>\n",
       "      <th>O2Sat</th>\n",
       "      <th>Temp</th>\n",
       "      <th>SBP</th>\n",
       "      <th>MAP</th>\n",
       "      <th>DBP</th>\n",
       "      <th>Resp</th>\n",
       "      <th>EtCO2</th>\n",
       "      <th>BaseExcess</th>\n",
       "      <th>...</th>\n",
       "      <th>Fibrinogen</th>\n",
       "      <th>Platelets</th>\n",
       "      <th>Age</th>\n",
       "      <th>Gender</th>\n",
       "      <th>Unit1</th>\n",
       "      <th>Unit2</th>\n",
       "      <th>HospAdmTime</th>\n",
       "      <th>ICULOS</th>\n",
       "      <th>SepsisLabel</th>\n",
       "      <th>Patient_ID</th>\n",
       "    </tr>\n",
       "  </thead>\n",
       "  <tbody>\n",
       "    <tr>\n",
       "      <th>0</th>\n",
       "      <td>0</td>\n",
       "      <td>NaN</td>\n",
       "      <td>NaN</td>\n",
       "      <td>NaN</td>\n",
       "      <td>NaN</td>\n",
       "      <td>NaN</td>\n",
       "      <td>NaN</td>\n",
       "      <td>NaN</td>\n",
       "      <td>NaN</td>\n",
       "      <td>NaN</td>\n",
       "      <td>...</td>\n",
       "      <td>NaN</td>\n",
       "      <td>NaN</td>\n",
       "      <td>68.54</td>\n",
       "      <td>0</td>\n",
       "      <td>NaN</td>\n",
       "      <td>NaN</td>\n",
       "      <td>-0.02</td>\n",
       "      <td>1</td>\n",
       "      <td>0</td>\n",
       "      <td>17072</td>\n",
       "    </tr>\n",
       "    <tr>\n",
       "      <th>1</th>\n",
       "      <td>1</td>\n",
       "      <td>65.0</td>\n",
       "      <td>100.0</td>\n",
       "      <td>NaN</td>\n",
       "      <td>NaN</td>\n",
       "      <td>72.0</td>\n",
       "      <td>NaN</td>\n",
       "      <td>16.5</td>\n",
       "      <td>NaN</td>\n",
       "      <td>NaN</td>\n",
       "      <td>...</td>\n",
       "      <td>NaN</td>\n",
       "      <td>NaN</td>\n",
       "      <td>68.54</td>\n",
       "      <td>0</td>\n",
       "      <td>NaN</td>\n",
       "      <td>NaN</td>\n",
       "      <td>-0.02</td>\n",
       "      <td>2</td>\n",
       "      <td>0</td>\n",
       "      <td>17072</td>\n",
       "    </tr>\n",
       "    <tr>\n",
       "      <th>2</th>\n",
       "      <td>2</td>\n",
       "      <td>78.0</td>\n",
       "      <td>100.0</td>\n",
       "      <td>NaN</td>\n",
       "      <td>NaN</td>\n",
       "      <td>42.5</td>\n",
       "      <td>NaN</td>\n",
       "      <td>NaN</td>\n",
       "      <td>NaN</td>\n",
       "      <td>NaN</td>\n",
       "      <td>...</td>\n",
       "      <td>NaN</td>\n",
       "      <td>NaN</td>\n",
       "      <td>68.54</td>\n",
       "      <td>0</td>\n",
       "      <td>NaN</td>\n",
       "      <td>NaN</td>\n",
       "      <td>-0.02</td>\n",
       "      <td>3</td>\n",
       "      <td>0</td>\n",
       "      <td>17072</td>\n",
       "    </tr>\n",
       "    <tr>\n",
       "      <th>3</th>\n",
       "      <td>3</td>\n",
       "      <td>73.0</td>\n",
       "      <td>100.0</td>\n",
       "      <td>NaN</td>\n",
       "      <td>NaN</td>\n",
       "      <td>NaN</td>\n",
       "      <td>NaN</td>\n",
       "      <td>17.0</td>\n",
       "      <td>NaN</td>\n",
       "      <td>NaN</td>\n",
       "      <td>...</td>\n",
       "      <td>NaN</td>\n",
       "      <td>NaN</td>\n",
       "      <td>68.54</td>\n",
       "      <td>0</td>\n",
       "      <td>NaN</td>\n",
       "      <td>NaN</td>\n",
       "      <td>-0.02</td>\n",
       "      <td>4</td>\n",
       "      <td>0</td>\n",
       "      <td>17072</td>\n",
       "    </tr>\n",
       "    <tr>\n",
       "      <th>4</th>\n",
       "      <td>4</td>\n",
       "      <td>70.0</td>\n",
       "      <td>100.0</td>\n",
       "      <td>NaN</td>\n",
       "      <td>129.0</td>\n",
       "      <td>74.0</td>\n",
       "      <td>69.0</td>\n",
       "      <td>14.0</td>\n",
       "      <td>NaN</td>\n",
       "      <td>NaN</td>\n",
       "      <td>...</td>\n",
       "      <td>NaN</td>\n",
       "      <td>330.0</td>\n",
       "      <td>68.54</td>\n",
       "      <td>0</td>\n",
       "      <td>NaN</td>\n",
       "      <td>NaN</td>\n",
       "      <td>-0.02</td>\n",
       "      <td>5</td>\n",
       "      <td>0</td>\n",
       "      <td>17072</td>\n",
       "    </tr>\n",
       "  </tbody>\n",
       "</table>\n",
       "<p>5 rows × 43 columns</p>\n",
       "</div>"
      ],
      "text/plain": [
       "   Hour    HR  O2Sat  Temp    SBP   MAP   DBP  Resp  EtCO2  BaseExcess  ...  \\\n",
       "0     0   NaN    NaN   NaN    NaN   NaN   NaN   NaN    NaN         NaN  ...   \n",
       "1     1  65.0  100.0   NaN    NaN  72.0   NaN  16.5    NaN         NaN  ...   \n",
       "2     2  78.0  100.0   NaN    NaN  42.5   NaN   NaN    NaN         NaN  ...   \n",
       "3     3  73.0  100.0   NaN    NaN   NaN   NaN  17.0    NaN         NaN  ...   \n",
       "4     4  70.0  100.0   NaN  129.0  74.0  69.0  14.0    NaN         NaN  ...   \n",
       "\n",
       "   Fibrinogen  Platelets    Age  Gender  Unit1  Unit2  HospAdmTime  ICULOS  \\\n",
       "0         NaN        NaN  68.54       0    NaN    NaN        -0.02       1   \n",
       "1         NaN        NaN  68.54       0    NaN    NaN        -0.02       2   \n",
       "2         NaN        NaN  68.54       0    NaN    NaN        -0.02       3   \n",
       "3         NaN        NaN  68.54       0    NaN    NaN        -0.02       4   \n",
       "4         NaN      330.0  68.54       0    NaN    NaN        -0.02       5   \n",
       "\n",
       "   SepsisLabel  Patient_ID  \n",
       "0            0       17072  \n",
       "1            0       17072  \n",
       "2            0       17072  \n",
       "3            0       17072  \n",
       "4            0       17072  \n",
       "\n",
       "[5 rows x 43 columns]"
      ]
     },
     "execution_count": 2,
     "metadata": {},
     "output_type": "execute_result"
    }
   ],
   "source": [
    "file_path = \"Dataset.csv\"\n",
    "df = pd.read_csv(file_path, index_col = 0)\n",
    "df.head()"
   ]
  },
  {
   "cell_type": "code",
   "execution_count": 3,
   "id": "4bd12a16-d6d2-4c1a-88ff-5b3c2f192b01",
   "metadata": {},
   "outputs": [],
   "source": [
    "columns_for_baseline = ['Hour', 'HR','O2Sat', 'Temp','SBP', 'MAP', 'DBP', 'Resp','Age','Gender','Patient_ID','SepsisLabel']"
   ]
  },
  {
   "cell_type": "code",
   "execution_count": 4,
   "id": "3b645d61-0653-4e4f-ba7d-b2ae3479736d",
   "metadata": {},
   "outputs": [],
   "source": [
    "df1 = df[columns_for_baseline]"
   ]
  },
  {
   "cell_type": "code",
   "execution_count": 5,
   "id": "aab7d8b1-c936-45e2-9b62-d883d54bbf8f",
   "metadata": {},
   "outputs": [],
   "source": [
    "# Filter patient IDs where at some point sepsis label is 1\n",
    "sepsis_patients_ids = list(set(df1.loc[df1['SepsisLabel'] == 1, 'Patient_ID'].tolist()))\n",
    "# Get unique Patient_IDs from df_encoded\n",
    "all_patient_ids = set(df1['Patient_ID'])\n",
    "# Find Patient_IDs not in sepsis_patients_ids\n",
    "no_sepsis_patients_ids = list(all_patient_ids - set(sepsis_patients_ids))"
   ]
  },
  {
   "cell_type": "code",
   "execution_count": 6,
   "id": "be49fb67-1ef8-4c08-baf5-ce7bb282985d",
   "metadata": {},
   "outputs": [],
   "source": [
    "non_sepsis_selected_patients_ids = random.sample(no_sepsis_patients_ids, 4000)"
   ]
  },
  {
   "cell_type": "code",
   "execution_count": 7,
   "id": "0176cebe-5904-45f5-ae44-b9bfef007793",
   "metadata": {},
   "outputs": [],
   "source": [
    "non_sepsis_selected_df = df1.loc[df1['Patient_ID'].isin(non_sepsis_selected_patients_ids)]\n",
    "sepsis_selected_df = df1.loc[df1['Patient_ID'].isin(sepsis_patients_ids)]\n",
    "final_df = pd.concat([non_sepsis_selected_df,sepsis_selected_df])"
   ]
  },
  {
   "cell_type": "code",
   "execution_count": 8,
   "id": "435e6cdf-43f1-42c2-ac59-12e12f715c9a",
   "metadata": {},
   "outputs": [],
   "source": [
    "patient_ids = final_df['Patient_ID'].unique()\n",
    "np.random.shuffle(patient_ids)"
   ]
  },
  {
   "cell_type": "code",
   "execution_count": 9,
   "id": "27e201ea-7cec-4b3f-a0cb-bd626390d0c4",
   "metadata": {},
   "outputs": [],
   "source": [
    "final_df.Patient_ID = final_df.Patient_ID.astype(\"category\")\n",
    "final_df.Patient_ID = final_df.Patient_ID.cat.set_categories(patient_ids)\n",
    "final_df_shuffled = final_df.sort_values([\"Patient_ID\", \"Hour\"]).set_index('Patient_ID')  ## 'sort' changed to 'patient_ids'"
   ]
  },
  {
   "cell_type": "code",
   "execution_count": 10,
   "id": "fcf540e4-eb85-43e4-9ac1-f097f9d318e8",
   "metadata": {},
   "outputs": [],
   "source": [
    "final_df.Patient_ID = final_df.Patient_ID.astype(\"int\")\n",
    "\n",
    "df_filled = final_df.groupby('Patient_ID', group_keys=False).apply(\n",
    "    lambda group: group.interpolate().bfill().ffill()\n",
    ").reset_index(drop=False)\n",
    "cleaned_df = df_filled.dropna()"
   ]
  },
  {
   "cell_type": "code",
   "execution_count": 11,
   "id": "ad72a3b1-64ad-4822-98f2-e8c220c8eb52",
   "metadata": {},
   "outputs": [
    {
     "name": "stderr",
     "output_type": "stream",
     "text": [
      "/var/tmp/ipykernel_167379/4273833888.py:9: SettingWithCopyWarning: \n",
      "A value is trying to be set on a copy of a slice from a DataFrame.\n",
      "Try using .loc[row_indexer,col_indexer] = value instead\n",
      "\n",
      "See the caveats in the documentation: https://pandas.pydata.org/pandas-docs/stable/user_guide/indexing.html#returning-a-view-versus-a-copy\n",
      "  cleaned_df['O2Sat'] = min_max_scaler.fit_transform(cleaned_df[['O2Sat']])\n",
      "/var/tmp/ipykernel_167379/4273833888.py:13: SettingWithCopyWarning: \n",
      "A value is trying to be set on a copy of a slice from a DataFrame.\n",
      "Try using .loc[row_indexer,col_indexer] = value instead\n",
      "\n",
      "See the caveats in the documentation: https://pandas.pydata.org/pandas-docs/stable/user_guide/indexing.html#returning-a-view-versus-a-copy\n",
      "  cleaned_df[columns_to_standardize] = standard_scaler.fit_transform(cleaned_df[columns_to_standardize])\n"
     ]
    }
   ],
   "source": [
    "# List to scale\n",
    "columns_to_scale = ['HR', 'O2Sat', 'Temp', 'SBP', 'MAP', 'DBP', 'Resp']\n",
    "\n",
    "# Initialize the scalers\n",
    "min_max_scaler = MinMaxScaler()\n",
    "standard_scaler = StandardScaler()\n",
    "\n",
    "# Apply MinMaxScaler to the O2Sat column\n",
    "cleaned_df['O2Sat'] = min_max_scaler.fit_transform(cleaned_df[['O2Sat']])\n",
    "\n",
    "# Apply StandardScaler to the rest of the columns\n",
    "columns_to_standardize = [col for col in columns_to_scale if col != 'O2Sat']\n",
    "cleaned_df[columns_to_standardize] = standard_scaler.fit_transform(cleaned_df[columns_to_standardize])"
   ]
  },
  {
   "cell_type": "code",
   "execution_count": 12,
   "id": "b2f73530-7050-46d2-9a70-faf6aa693fb0",
   "metadata": {},
   "outputs": [],
   "source": [
    "# Prepare data for LSTM\n",
    "features = ['HR', 'O2Sat', 'Temp', 'SBP', 'MAP', 'DBP', 'Resp', 'Age', 'Gender', \"Patient_ID\"]\n",
    "X = cleaned_df[features]\n",
    "y = cleaned_df['SepsisLabel']"
   ]
  },
  {
   "cell_type": "code",
   "execution_count": 13,
   "id": "67bdc591-1341-4820-be5a-76a1ad700c11",
   "metadata": {},
   "outputs": [],
   "source": [
    "def create_sequences(X, y, time_steps=6):\n",
    "    X_seq, y_seq = [], []\n",
    "    for i in range(len(X) - time_steps):\n",
    "        X_seq.append(X.iloc[i:(i + time_steps)].values)\n",
    "        y_seq.append(y.iloc[i + time_steps])\n",
    "    return X_seq, y_seq"
   ]
  },
  {
   "cell_type": "code",
   "execution_count": 14,
   "id": "37bc7389-134e-447d-b8ac-2318e6363ac0",
   "metadata": {},
   "outputs": [],
   "source": [
    "X_sequences = []\n",
    "y_sequences = []\n",
    "\n",
    "for patient in cleaned_df.sort_values([\"Patient_ID\", \"Hour\"]).groupby(\"Patient_ID\"):\n",
    "\n",
    "    features = ['HR', 'O2Sat', 'Temp', 'SBP', 'MAP', 'DBP', 'Resp', 'Age', 'Gender']\n",
    "    X = patient[1][features]\n",
    "    y = patient[1]['SepsisLabel']\n",
    "    X_s, y_s = create_sequences(X,y)\n",
    "    \n",
    "    X_sequences = X_sequences + X_s\n",
    "    y_sequences = y_sequences + y_s"
   ]
  },
  {
   "cell_type": "code",
   "execution_count": 15,
   "id": "6b8717fa-8e79-4784-9b7c-bae37107cdb6",
   "metadata": {},
   "outputs": [],
   "source": [
    "X_sequences, y_sequences = np.array(X_sequences), np.array(y_sequences)"
   ]
  },
  {
   "cell_type": "code",
   "execution_count": 16,
   "id": "adecbce6-610a-43a5-bd97-8bfa0f690405",
   "metadata": {},
   "outputs": [],
   "source": [
    "split_point = int(0.8 * len(y_sequences))"
   ]
  },
  {
   "cell_type": "code",
   "execution_count": 17,
   "id": "de34d106-688b-4260-8db3-fd9ce4e694e2",
   "metadata": {},
   "outputs": [],
   "source": [
    "X_train = X_sequences[:split_point,:,:]\n",
    "X_test = X_sequences[split_point:,:,:]\n",
    "y_train = y_sequences[:split_point]\n",
    "y_test = y_sequences[split_point:]"
   ]
  },
  {
   "cell_type": "code",
   "execution_count": 18,
   "id": "56ffcfcb-d547-4824-9a01-d04ba04fdcd8",
   "metadata": {},
   "outputs": [],
   "source": [
    "zero_indexes = np.where(y_train == 0)[0]\n",
    "one_indexes = np.where(y_train == 1)[0]\n",
    "\n",
    "zero_sample_indexes = np.random.choice(zero_indexes, size = 16000, replace = False)\n",
    "balanced_indexes = np.random.choice(np.concatenate([zero_sample_indexes, one_indexes]), size = 32000, replace=False)"
   ]
  },
  {
   "cell_type": "code",
   "execution_count": 19,
   "id": "6471ad43-fa59-4f70-bd5a-3cb5035283ba",
   "metadata": {
    "tags": []
   },
   "outputs": [],
   "source": [
    "X_train_balanced = X_train[balanced_indexes,:,:] \n",
    "y_train_balanced = y_train[balanced_indexes]"
   ]
  },
  {
   "cell_type": "code",
   "execution_count": 20,
   "id": "4d30c608-580a-4b83-8e25-0a29413f00d7",
   "metadata": {
    "tags": []
   },
   "outputs": [
    {
     "name": "stderr",
     "output_type": "stream",
     "text": [
      "2024-07-21 09:53:17.168614: W tensorflow/compiler/xla/stream_executor/platform/default/dso_loader.cc:64] Could not load dynamic library 'libcuda.so.1'; dlerror: libcuda.so.1: cannot open shared object file: No such file or directory; LD_LIBRARY_PATH: /usr/local/cuda/lib64:/usr/local/nccl2/lib:/usr/local/cuda/extras/CUPTI/lib64\n",
      "2024-07-21 09:53:17.169480: W tensorflow/compiler/xla/stream_executor/cuda/cuda_driver.cc:265] failed call to cuInit: UNKNOWN ERROR (303)\n",
      "2024-07-21 09:53:17.169539: I tensorflow/compiler/xla/stream_executor/cuda/cuda_diagnostics.cc:156] kernel driver does not appear to be running on this host (instance-20240720-205940): /proc/driver/nvidia/version does not exist\n",
      "2024-07-21 09:53:17.179221: I tensorflow/core/platform/cpu_feature_guard.cc:193] This TensorFlow binary is optimized with oneAPI Deep Neural Network Library (oneDNN) to use the following CPU instructions in performance-critical operations:  AVX2 FMA\n",
      "To enable them in other operations, rebuild TensorFlow with the appropriate compiler flags.\n"
     ]
    },
    {
     "name": "stdout",
     "output_type": "stream",
     "text": [
      "Epoch 1/120\n",
      "400/400 [==============================] - 41s 80ms/step - loss: 0.6795 - accuracy: 0.5726 - recall: 0.5966 - val_loss: 0.6740 - val_accuracy: 0.5864 - val_recall: 0.5413\n",
      "Epoch 2/120\n",
      "400/400 [==============================] - 31s 78ms/step - loss: 0.6715 - accuracy: 0.5900 - recall: 0.5846 - val_loss: 0.6710 - val_accuracy: 0.5972 - val_recall: 0.5476\n",
      "Epoch 3/120\n",
      "400/400 [==============================] - 31s 77ms/step - loss: 0.6660 - accuracy: 0.6005 - recall: 0.5913 - val_loss: 0.6618 - val_accuracy: 0.6064 - val_recall: 0.5729\n",
      "Epoch 4/120\n",
      "400/400 [==============================] - 31s 77ms/step - loss: 0.6610 - accuracy: 0.6083 - recall: 0.6050 - val_loss: 0.6564 - val_accuracy: 0.6114 - val_recall: 0.5922\n",
      "Epoch 5/120\n",
      "400/400 [==============================] - 33s 82ms/step - loss: 0.6555 - accuracy: 0.6160 - recall: 0.6211 - val_loss: 0.6548 - val_accuracy: 0.6159 - val_recall: 0.6097\n",
      "Epoch 6/120\n",
      "400/400 [==============================] - 31s 78ms/step - loss: 0.6502 - accuracy: 0.6229 - recall: 0.6231 - val_loss: 0.6480 - val_accuracy: 0.6152 - val_recall: 0.5998\n",
      "Epoch 7/120\n",
      "400/400 [==============================] - 31s 78ms/step - loss: 0.6404 - accuracy: 0.6316 - recall: 0.6567 - val_loss: 0.6455 - val_accuracy: 0.6181 - val_recall: 0.6043\n",
      "Epoch 8/120\n",
      "400/400 [==============================] - 31s 77ms/step - loss: 0.6296 - accuracy: 0.6476 - recall: 0.6722 - val_loss: 0.6453 - val_accuracy: 0.6184 - val_recall: 0.5588\n",
      "Epoch 9/120\n",
      "400/400 [==============================] - 31s 78ms/step - loss: 0.6131 - accuracy: 0.6631 - recall: 0.6920 - val_loss: 0.6395 - val_accuracy: 0.6322 - val_recall: 0.6022\n",
      "Epoch 10/120\n",
      "400/400 [==============================] - 31s 77ms/step - loss: 0.5926 - accuracy: 0.6810 - recall: 0.7174 - val_loss: 0.6382 - val_accuracy: 0.6419 - val_recall: 0.6359\n",
      "Epoch 11/120\n",
      "400/400 [==============================] - 31s 78ms/step - loss: 0.5658 - accuracy: 0.7019 - recall: 0.7371 - val_loss: 0.6437 - val_accuracy: 0.6491 - val_recall: 0.6281\n",
      "Epoch 12/120\n",
      "400/400 [==============================] - 32s 79ms/step - loss: 0.5312 - accuracy: 0.7318 - recall: 0.7612 - val_loss: 0.6463 - val_accuracy: 0.6534 - val_recall: 0.6631\n",
      "Epoch 13/120\n",
      "400/400 [==============================] - 33s 82ms/step - loss: 0.4892 - accuracy: 0.7596 - recall: 0.7910 - val_loss: 0.6726 - val_accuracy: 0.6503 - val_recall: 0.6417\n",
      "Epoch 14/120\n",
      "400/400 [==============================] - 32s 79ms/step - loss: 0.4523 - accuracy: 0.7861 - recall: 0.8058 - val_loss: 0.6810 - val_accuracy: 0.6694 - val_recall: 0.6609\n",
      "Epoch 15/120\n",
      "400/400 [==============================] - 32s 81ms/step - loss: 0.4028 - accuracy: 0.8150 - recall: 0.8342 - val_loss: 0.7041 - val_accuracy: 0.6755 - val_recall: 0.7046\n",
      "Epoch 16/120\n",
      "400/400 [==============================] - 31s 78ms/step - loss: 0.3505 - accuracy: 0.8447 - recall: 0.8570 - val_loss: 0.7373 - val_accuracy: 0.6728 - val_recall: 0.6959\n",
      "Epoch 17/120\n",
      "400/400 [==============================] - 32s 79ms/step - loss: 0.3116 - accuracy: 0.8657 - recall: 0.8797 - val_loss: 0.8110 - val_accuracy: 0.6822 - val_recall: 0.7077\n",
      "Epoch 18/120\n",
      "400/400 [==============================] - 31s 77ms/step - loss: 0.2701 - accuracy: 0.8877 - recall: 0.9000 - val_loss: 0.8513 - val_accuracy: 0.6777 - val_recall: 0.7074\n",
      "Epoch 19/120\n",
      "400/400 [==============================] - 34s 85ms/step - loss: 0.2330 - accuracy: 0.9059 - recall: 0.9145 - val_loss: 0.9540 - val_accuracy: 0.6842 - val_recall: 0.7291\n",
      "Epoch 20/120\n",
      "400/400 [==============================] - 35s 87ms/step - loss: 0.1948 - accuracy: 0.9236 - recall: 0.9309 - val_loss: 1.0682 - val_accuracy: 0.6855 - val_recall: 0.6977\n",
      "Epoch 21/120\n",
      "400/400 [==============================] - 32s 80ms/step - loss: 0.1752 - accuracy: 0.9332 - recall: 0.9367 - val_loss: 1.0197 - val_accuracy: 0.6911 - val_recall: 0.7046\n",
      "Epoch 22/120\n",
      "400/400 [==============================] - 33s 81ms/step - loss: 0.1461 - accuracy: 0.9460 - recall: 0.9504 - val_loss: 1.1521 - val_accuracy: 0.6855 - val_recall: 0.7203\n",
      "Epoch 23/120\n",
      "400/400 [==============================] - 32s 80ms/step - loss: 0.1301 - accuracy: 0.9511 - recall: 0.9551 - val_loss: 1.2667 - val_accuracy: 0.6886 - val_recall: 0.7058\n",
      "Epoch 24/120\n",
      "400/400 [==============================] - 32s 80ms/step - loss: 0.1156 - accuracy: 0.9580 - recall: 0.9622 - val_loss: 1.1539 - val_accuracy: 0.6906 - val_recall: 0.7122\n",
      "Epoch 25/120\n",
      "400/400 [==============================] - 32s 80ms/step - loss: 0.1029 - accuracy: 0.9638 - recall: 0.9655 - val_loss: 1.2198 - val_accuracy: 0.6862 - val_recall: 0.6805\n",
      "Epoch 26/120\n",
      "400/400 [==============================] - 35s 87ms/step - loss: 0.0899 - accuracy: 0.9678 - recall: 0.9696 - val_loss: 1.3118 - val_accuracy: 0.6942 - val_recall: 0.7275\n",
      "Epoch 27/120\n",
      "400/400 [==============================] - 33s 83ms/step - loss: 0.0801 - accuracy: 0.9721 - recall: 0.9735 - val_loss: 1.2390 - val_accuracy: 0.6925 - val_recall: 0.7197\n",
      "Epoch 28/120\n",
      "400/400 [==============================] - 33s 82ms/step - loss: 0.0743 - accuracy: 0.9746 - recall: 0.9758 - val_loss: 1.3125 - val_accuracy: 0.6991 - val_recall: 0.6908\n",
      "Epoch 29/120\n",
      "400/400 [==============================] - 32s 79ms/step - loss: 0.0680 - accuracy: 0.9773 - recall: 0.9775 - val_loss: 1.2985 - val_accuracy: 0.6959 - val_recall: 0.7080\n",
      "Epoch 30/120\n",
      "400/400 [==============================] - 32s 80ms/step - loss: 0.0649 - accuracy: 0.9780 - recall: 0.9779 - val_loss: 1.3622 - val_accuracy: 0.6889 - val_recall: 0.6971\n",
      "Epoch 31/120\n",
      "400/400 [==============================] - 34s 86ms/step - loss: 0.0652 - accuracy: 0.9778 - recall: 0.9793 - val_loss: 1.2184 - val_accuracy: 0.6970 - val_recall: 0.7242\n",
      "Epoch 32/120\n",
      "400/400 [==============================] - 32s 80ms/step - loss: 0.0621 - accuracy: 0.9793 - recall: 0.9805 - val_loss: 1.2194 - val_accuracy: 0.6867 - val_recall: 0.6832\n",
      "Epoch 33/120\n",
      "400/400 [==============================] - 32s 81ms/step - loss: 0.0566 - accuracy: 0.9806 - recall: 0.9800 - val_loss: 1.2576 - val_accuracy: 0.6975 - val_recall: 0.6986\n",
      "Epoch 34/120\n",
      "400/400 [==============================] - 33s 82ms/step - loss: 0.0542 - accuracy: 0.9815 - recall: 0.9803 - val_loss: 1.3734 - val_accuracy: 0.6973 - val_recall: 0.7058\n",
      "Epoch 35/120\n",
      "400/400 [==============================] - 34s 85ms/step - loss: 0.0519 - accuracy: 0.9829 - recall: 0.9830 - val_loss: 1.1867 - val_accuracy: 0.7094 - val_recall: 0.6998\n",
      "Epoch 36/120\n",
      "400/400 [==============================] - 33s 82ms/step - loss: 0.0523 - accuracy: 0.9836 - recall: 0.9829 - val_loss: 1.2616 - val_accuracy: 0.7075 - val_recall: 0.7068\n",
      "Epoch 37/120\n",
      "400/400 [==============================] - 35s 86ms/step - loss: 0.0474 - accuracy: 0.9845 - recall: 0.9856 - val_loss: 1.3145 - val_accuracy: 0.7000 - val_recall: 0.7206\n",
      "Epoch 38/120\n",
      "400/400 [==============================] - 34s 84ms/step - loss: 0.0483 - accuracy: 0.9850 - recall: 0.9858 - val_loss: 1.1986 - val_accuracy: 0.7067 - val_recall: 0.7131\n",
      "Epoch 39/120\n",
      "400/400 [==============================] - 34s 84ms/step - loss: 0.0486 - accuracy: 0.9844 - recall: 0.9849 - val_loss: 1.3034 - val_accuracy: 0.7155 - val_recall: 0.7526\n",
      "Epoch 40/120\n",
      "400/400 [==============================] - 33s 82ms/step - loss: 0.0435 - accuracy: 0.9866 - recall: 0.9865 - val_loss: 1.2754 - val_accuracy: 0.7061 - val_recall: 0.7312\n",
      "Epoch 41/120\n",
      "400/400 [==============================] - 33s 82ms/step - loss: 0.0419 - accuracy: 0.9860 - recall: 0.9860 - val_loss: 1.4153 - val_accuracy: 0.7119 - val_recall: 0.7492\n",
      "Epoch 42/120\n",
      "400/400 [==============================] - 33s 83ms/step - loss: 0.0445 - accuracy: 0.9857 - recall: 0.9858 - val_loss: 1.3592 - val_accuracy: 0.7123 - val_recall: 0.7324\n",
      "Epoch 43/120\n",
      "400/400 [==============================] - 32s 80ms/step - loss: 0.0432 - accuracy: 0.9857 - recall: 0.9853 - val_loss: 1.2874 - val_accuracy: 0.7122 - val_recall: 0.7110\n",
      "Epoch 44/120\n",
      "400/400 [==============================] - 32s 80ms/step - loss: 0.0375 - accuracy: 0.9887 - recall: 0.9893 - val_loss: 1.3514 - val_accuracy: 0.7134 - val_recall: 0.7511\n",
      "Epoch 45/120\n",
      "400/400 [==============================] - 32s 79ms/step - loss: 0.0407 - accuracy: 0.9868 - recall: 0.9875 - val_loss: 1.4250 - val_accuracy: 0.7052 - val_recall: 0.7318\n",
      "Epoch 46/120\n",
      "400/400 [==============================] - 33s 82ms/step - loss: 0.0386 - accuracy: 0.9877 - recall: 0.9882 - val_loss: 1.3837 - val_accuracy: 0.7088 - val_recall: 0.7251\n",
      "Epoch 47/120\n",
      "400/400 [==============================] - 32s 79ms/step - loss: 0.0380 - accuracy: 0.9884 - recall: 0.9885 - val_loss: 1.2000 - val_accuracy: 0.7030 - val_recall: 0.6857\n",
      "Epoch 48/120\n",
      "400/400 [==============================] - 32s 81ms/step - loss: 0.0384 - accuracy: 0.9887 - recall: 0.9893 - val_loss: 1.3935 - val_accuracy: 0.7142 - val_recall: 0.7242\n",
      "Epoch 49/120\n",
      "400/400 [==============================] - 32s 81ms/step - loss: 0.0418 - accuracy: 0.9868 - recall: 0.9863 - val_loss: 1.2850 - val_accuracy: 0.7108 - val_recall: 0.7405\n",
      "Epoch 50/120\n",
      "400/400 [==============================] - 33s 83ms/step - loss: 0.0323 - accuracy: 0.9893 - recall: 0.9894 - val_loss: 1.3606 - val_accuracy: 0.7058 - val_recall: 0.7254\n",
      "Epoch 51/120\n",
      "400/400 [==============================] - 32s 81ms/step - loss: 0.0342 - accuracy: 0.9897 - recall: 0.9895 - val_loss: 1.3500 - val_accuracy: 0.7048 - val_recall: 0.7285\n",
      "Epoch 52/120\n",
      "400/400 [==============================] - 32s 81ms/step - loss: 0.0314 - accuracy: 0.9904 - recall: 0.9904 - val_loss: 1.2982 - val_accuracy: 0.7141 - val_recall: 0.7426\n",
      "Epoch 53/120\n",
      "400/400 [==============================] - 34s 86ms/step - loss: 0.0338 - accuracy: 0.9899 - recall: 0.9893 - val_loss: 1.2967 - val_accuracy: 0.7125 - val_recall: 0.7215\n",
      "Epoch 54/120\n",
      "400/400 [==============================] - 33s 81ms/step - loss: 0.0313 - accuracy: 0.9899 - recall: 0.9902 - val_loss: 1.4001 - val_accuracy: 0.7052 - val_recall: 0.7399\n",
      "Epoch 55/120\n",
      "400/400 [==============================] - 33s 81ms/step - loss: 0.0331 - accuracy: 0.9905 - recall: 0.9904 - val_loss: 1.3273 - val_accuracy: 0.7025 - val_recall: 0.7095\n",
      "Epoch 56/120\n",
      "400/400 [==============================] - 34s 84ms/step - loss: 0.0398 - accuracy: 0.9876 - recall: 0.9878 - val_loss: 1.3002 - val_accuracy: 0.7116 - val_recall: 0.7236\n",
      "Epoch 57/120\n",
      "400/400 [==============================] - 33s 81ms/step - loss: 0.0306 - accuracy: 0.9905 - recall: 0.9895 - val_loss: 1.3996 - val_accuracy: 0.7025 - val_recall: 0.7272\n",
      "Epoch 58/120\n",
      "400/400 [==============================] - 32s 79ms/step - loss: 0.0309 - accuracy: 0.9901 - recall: 0.9903 - val_loss: 1.3574 - val_accuracy: 0.6995 - val_recall: 0.7128\n",
      "Epoch 59/120\n",
      "400/400 [==============================] - 47s 118ms/step - loss: 0.0356 - accuracy: 0.9887 - recall: 0.9887 - val_loss: 1.4110 - val_accuracy: 0.7048 - val_recall: 0.7227\n",
      "Epoch 60/120\n",
      "400/400 [==============================] - 35s 88ms/step - loss: 0.0298 - accuracy: 0.9909 - recall: 0.9914 - val_loss: 1.3808 - val_accuracy: 0.7195 - val_recall: 0.7414\n",
      "Epoch 61/120\n",
      "400/400 [==============================] - 32s 80ms/step - loss: 0.0277 - accuracy: 0.9918 - recall: 0.9929 - val_loss: 1.3975 - val_accuracy: 0.7072 - val_recall: 0.7245\n",
      "Epoch 62/120\n",
      "400/400 [==============================] - 33s 81ms/step - loss: 0.0286 - accuracy: 0.9909 - recall: 0.9917 - val_loss: 1.4592 - val_accuracy: 0.7136 - val_recall: 0.7471\n",
      "Epoch 63/120\n",
      "400/400 [==============================] - 33s 82ms/step - loss: 0.0259 - accuracy: 0.9929 - recall: 0.9937 - val_loss: 1.4085 - val_accuracy: 0.7078 - val_recall: 0.7508\n",
      "Epoch 64/120\n",
      "400/400 [==============================] - 33s 83ms/step - loss: 0.0273 - accuracy: 0.9914 - recall: 0.9916 - val_loss: 1.4918 - val_accuracy: 0.7069 - val_recall: 0.7291\n",
      "Epoch 65/120\n",
      "400/400 [==============================] - 32s 81ms/step - loss: 0.0271 - accuracy: 0.9912 - recall: 0.9917 - val_loss: 1.1971 - val_accuracy: 0.7155 - val_recall: 0.7486\n",
      "Epoch 66/120\n",
      "400/400 [==============================] - 33s 82ms/step - loss: 0.0250 - accuracy: 0.9921 - recall: 0.9922 - val_loss: 1.3406 - val_accuracy: 0.7075 - val_recall: 0.7233\n",
      "Epoch 67/120\n",
      "400/400 [==============================] - 32s 81ms/step - loss: 0.0280 - accuracy: 0.9917 - recall: 0.9922 - val_loss: 1.2933 - val_accuracy: 0.7052 - val_recall: 0.7369\n",
      "Epoch 68/120\n",
      "400/400 [==============================] - 35s 87ms/step - loss: 0.0237 - accuracy: 0.9934 - recall: 0.9932 - val_loss: 1.4015 - val_accuracy: 0.7048 - val_recall: 0.7043\n",
      "Epoch 69/120\n",
      "400/400 [==============================] - 33s 83ms/step - loss: 0.0282 - accuracy: 0.9909 - recall: 0.9910 - val_loss: 1.3913 - val_accuracy: 0.7122 - val_recall: 0.7230\n",
      "Epoch 70/120\n",
      "400/400 [==============================] - 33s 83ms/step - loss: 0.0256 - accuracy: 0.9926 - recall: 0.9930 - val_loss: 1.4161 - val_accuracy: 0.7092 - val_recall: 0.7179\n",
      "Epoch 71/120\n",
      "400/400 [==============================] - 33s 82ms/step - loss: 0.0231 - accuracy: 0.9930 - recall: 0.9940 - val_loss: 1.5251 - val_accuracy: 0.7147 - val_recall: 0.7315\n",
      "Epoch 72/120\n",
      "400/400 [==============================] - 33s 82ms/step - loss: 0.0261 - accuracy: 0.9923 - recall: 0.9924 - val_loss: 1.3301 - val_accuracy: 0.7098 - val_recall: 0.7381\n",
      "Epoch 73/120\n",
      "400/400 [==============================] - 33s 83ms/step - loss: 0.0235 - accuracy: 0.9931 - recall: 0.9941 - val_loss: 1.4420 - val_accuracy: 0.7253 - val_recall: 0.7330\n",
      "Epoch 74/120\n",
      "400/400 [==============================] - 33s 82ms/step - loss: 0.0289 - accuracy: 0.9909 - recall: 0.9905 - val_loss: 1.4069 - val_accuracy: 0.7103 - val_recall: 0.7239\n",
      "Epoch 75/120\n",
      "400/400 [==============================] - 33s 82ms/step - loss: 0.0221 - accuracy: 0.9931 - recall: 0.9932 - val_loss: 1.5122 - val_accuracy: 0.7131 - val_recall: 0.7061\n",
      "Epoch 76/120\n",
      "400/400 [==============================] - 33s 83ms/step - loss: 0.0253 - accuracy: 0.9924 - recall: 0.9922 - val_loss: 1.4505 - val_accuracy: 0.7095 - val_recall: 0.7269\n",
      "Epoch 77/120\n",
      "400/400 [==============================] - 33s 82ms/step - loss: 0.0250 - accuracy: 0.9926 - recall: 0.9924 - val_loss: 1.2803 - val_accuracy: 0.7109 - val_recall: 0.7230\n",
      "Epoch 78/120\n",
      "400/400 [==============================] - 33s 83ms/step - loss: 0.0276 - accuracy: 0.9917 - recall: 0.9915 - val_loss: 1.3779 - val_accuracy: 0.7119 - val_recall: 0.7110\n",
      "Epoch 79/120\n",
      "400/400 [==============================] - 33s 82ms/step - loss: 0.0237 - accuracy: 0.9927 - recall: 0.9927 - val_loss: 1.3685 - val_accuracy: 0.7109 - val_recall: 0.7300\n",
      "Epoch 80/120\n",
      "400/400 [==============================] - 33s 83ms/step - loss: 0.0220 - accuracy: 0.9938 - recall: 0.9942 - val_loss: 1.4884 - val_accuracy: 0.7081 - val_recall: 0.7191\n",
      "Epoch 81/120\n",
      "400/400 [==============================] - 33s 82ms/step - loss: 0.0246 - accuracy: 0.9918 - recall: 0.9915 - val_loss: 1.3490 - val_accuracy: 0.7114 - val_recall: 0.7239\n",
      "Epoch 82/120\n",
      "400/400 [==============================] - 33s 83ms/step - loss: 0.0180 - accuracy: 0.9951 - recall: 0.9947 - val_loss: 1.5935 - val_accuracy: 0.7125 - val_recall: 0.7215\n",
      "Epoch 83/120\n",
      "400/400 [==============================] - 32s 81ms/step - loss: 0.0246 - accuracy: 0.9925 - recall: 0.9928 - val_loss: 1.3993 - val_accuracy: 0.7088 - val_recall: 0.7185\n",
      "Epoch 84/120\n",
      "400/400 [==============================] - 33s 82ms/step - loss: 0.0221 - accuracy: 0.9930 - recall: 0.9936 - val_loss: 1.3662 - val_accuracy: 0.7097 - val_recall: 0.7423\n",
      "Epoch 85/120\n",
      "400/400 [==============================] - 33s 82ms/step - loss: 0.0181 - accuracy: 0.9948 - recall: 0.9955 - val_loss: 1.7053 - val_accuracy: 0.7200 - val_recall: 0.7324\n",
      "Epoch 86/120\n",
      "400/400 [==============================] - 34s 85ms/step - loss: 0.0197 - accuracy: 0.9943 - recall: 0.9939 - val_loss: 1.4376 - val_accuracy: 0.7122 - val_recall: 0.7523\n",
      "Epoch 87/120\n",
      "400/400 [==============================] - 32s 80ms/step - loss: 0.0243 - accuracy: 0.9929 - recall: 0.9934 - val_loss: 1.3176 - val_accuracy: 0.7119 - val_recall: 0.7034\n",
      "Epoch 88/120\n",
      "400/400 [==============================] - 33s 82ms/step - loss: 0.0175 - accuracy: 0.9950 - recall: 0.9950 - val_loss: 1.4771 - val_accuracy: 0.7184 - val_recall: 0.7393\n",
      "Epoch 89/120\n",
      "400/400 [==============================] - 34s 86ms/step - loss: 0.0205 - accuracy: 0.9940 - recall: 0.9941 - val_loss: 1.4827 - val_accuracy: 0.7139 - val_recall: 0.7327\n"
     ]
    }
   ],
   "source": [
    "from tensorflow.keras import models, layers, optimizers, regularizers\n",
    "from tensorflow.keras.layers import Normalization\n",
    "from tensorflow.keras.callbacks import EarlyStopping\n",
    "from tensorflow.keras.metrics import Recall\n",
    "from sklearn.model_selection import train_test_split\n",
    "\n",
    "def init_model(X_train, y_train):\n",
    "    initial_learning_rate = 0.001 # Default Adam\n",
    "\n",
    "    adam = optimizers.Adam()\n",
    "    reg_l2 = regularizers.L2(0.05)\n",
    "    normalizer = Normalization()\n",
    "    normalizer.adapt(X_train)\n",
    "    \n",
    "    model = models.Sequential()\n",
    "    model.add(normalizer)\n",
    "    model.add(layers.LSTM(400, activation='tanh', return_sequences=True))\n",
    "    model.add(layers.LSTM(100, activation='tanh', return_sequences=True))\n",
    "    model.add(layers.LSTM(128, activation='tanh', return_sequences=True))\n",
    "    model.add(layers.LSTM(64, activation='tanh', return_sequences=True))\n",
    "    model.add(layers.LSTM(50, activation='tanh', return_sequences=False))\n",
    "    model.add(layers.Dropout(0.3))\n",
    "    model.add(layers.Dense(100, activation='relu'))\n",
    "    model.add(layers.Dropout(0.3))\n",
    "    model.add(layers.Dense(50, activation='relu'))\n",
    "    model.add(layers.Dense(1, activation='sigmoid'))\n",
    "    model.compile(loss='binary_crossentropy', optimizer=adam, metrics=[\"accuracy\", Recall()])\n",
    "    return model\n",
    "\n",
    "\n",
    "\n",
    "es = EarlyStopping(monitor=\"val_recall\", patience=50, mode=\"max\", restore_best_weights=True)\n",
    "\n",
    "model_f = init_model(X_train_balanced, y_train_balanced)\n",
    "history_fed = model_f.fit(X_train_balanced, y_train_balanced,\n",
    "                          validation_split=0.2,\n",
    "                          shuffle=False,\n",
    "                          batch_size=64,\n",
    "                          epochs=120,\n",
    "                          callbacks=[es],\n",
    "                          verbose=1)\n"
   ]
  },
  {
   "cell_type": "code",
   "execution_count": 21,
   "id": "c8bdc443-3598-4c6e-994b-285ec15ca73e",
   "metadata": {
    "tags": []
   },
   "outputs": [
    {
     "name": "stdout",
     "output_type": "stream",
     "text": [
      "1516/1516 [==============================] - 33s 20ms/step\n",
      "              precision    recall  f1-score   support\n",
      "\n",
      "           0       0.94      0.63      0.76     44903\n",
      "           1       0.10      0.49      0.16      3600\n",
      "\n",
      "    accuracy                           0.62     48503\n",
      "   macro avg       0.52      0.56      0.46     48503\n",
      "weighted avg       0.88      0.62      0.71     48503\n",
      "\n",
      "[[28359 16544]\n",
      " [ 1843  1757]]\n"
     ]
    }
   ],
   "source": [
    "y_pred = model_f.predict(X_test)\n",
    "y_pred_classes = (y_pred > 0.5).astype(int)\n",
    "\n",
    "# Calculate additional metrics\n",
    "print(classification_report(y_test, y_pred_classes))\n",
    "print(confusion_matrix(y_test, y_pred_classes))"
   ]
  },
  {
   "cell_type": "code",
   "execution_count": 22,
   "id": "b984c852-0aec-4d42-81cb-f24a13a43f9b",
   "metadata": {
    "tags": []
   },
   "outputs": [],
   "source": [
    "import os\n",
    "# Create a 'models' directory if it doesn't exist\n",
    "os.makedirs('models', exist_ok=True)\n",
    "# Save the model\n",
    "#save_model(model, 'models/sepsis_model2.h5')"
   ]
  },
  {
   "cell_type": "code",
   "execution_count": 23,
   "id": "42ebfa54-4a01-4685-b40c-c3e4c4079cc3",
   "metadata": {
    "tags": []
   },
   "outputs": [],
   "source": [
    "model_f.save(\"models/sepsis_model4.keras\")"
   ]
  },
  {
   "cell_type": "code",
   "execution_count": 24,
   "id": "826e0638-8aad-4e57-8ffc-26cbbb2791f7",
   "metadata": {
    "tags": []
   },
   "outputs": [
    {
     "data": {
      "image/png": "[encoded data removed]",
      "text/plain": [
       "<Figure size 640x480 with 2 Axes>"
      ]
     },
     "metadata": {},
     "output_type": "display_data"
    }
   ],
   "source": [
    "cm = confusion_matrix(y_test, y_pred_classes)\n",
    "sns.heatmap(cm, annot=True, fmt='d', xticklabels=['Negative', 'Positive'], \n",
    "            yticklabels=['True', 'False'])\n",
    "plt.xlabel('Actual')\n",
    "plt.ylabel('Predicted')\n",
    "plt.title('Confusion Matrix')\n",
    "plt.show()"
   ]
  },
  {
   "cell_type": "code",
   "execution_count": 25,
   "id": "5841c7a4-fd97-427f-842a-612461a9ea5d",
   "metadata": {
    "tags": []
   },
   "outputs": [
    {
     "data": {
      "image/png": "[encoded data removed]",
      "text/plain": [
       "<Figure size 640x480 with 1 Axes>"
      ]
     },
     "metadata": {},
     "output_type": "display_data"
    },
    {
     "data": {
      "image/png": "[encoded data removed]",
      "text/plain": [
       "<Figure size 640x480 with 1 Axes>"
      ]
     },
     "metadata": {},
     "output_type": "display_data"
    }
   ],
   "source": [
    "import matplotlib.pyplot as plt\n",
    "\n",
    "plt.plot(history_fed.history['loss'], label='Training Loss')\n",
    "plt.plot(history_fed.history['val_loss'], label='Validation Loss')\n",
    "plt.xlabel('Epochs')\n",
    "plt.ylabel('Loss')\n",
    "plt.legend()\n",
    "plt.show()\n",
    "\n",
    "plt.plot(history_fed.history['accuracy'], label='Training Accuracy')\n",
    "plt.plot(history_fed.history['val_accuracy'], label='Validation Accuracy')\n",
    "plt.xlabel('Epochs')\n",
    "plt.ylabel('Accuracy')\n",
    "plt.legend()\n",
    "plt.show()"
   ]
  },
  {
   "cell_type": "code",
   "execution_count": null,
   "id": "22024105-7585-40c5-9bc8-e0e2c27f58b7",
   "metadata": {},
   "outputs": [],
   "source": []
  },
  {
   "cell_type": "code",
   "execution_count": null,
   "id": "e2e92f56-d924-448b-91a2-fa3608f9ad49",
   "metadata": {},
   "outputs": [],
   "source": []
  },
  {
   "cell_type": "code",
   "execution_count": null,
   "id": "b2519870-83c4-4dca-9bce-20dea874e9c6",
   "metadata": {},
   "outputs": [],
   "source": []
  },
  {
   "cell_type": "code",
   "execution_count": null,
   "id": "9c1c8c94-5049-450a-9ea6-f7664a41d1a0",
   "metadata": {},
   "outputs": [],
   "source": []
  },
  {
   "cell_type": "code",
   "execution_count": null,
   "id": "1648ec24-6e14-4ac3-8a98-6d5313cd7d1b",
   "metadata": {},
   "outputs": [],
   "source": []
  },
  {
   "cell_type": "code",
   "execution_count": null,
   "id": "90fd056f-0d1d-4c4a-8d4b-b76f15d2dc96",
   "metadata": {},
   "outputs": [],
   "source": []
  }
 ],
 "metadata": {
  "environment": {
   "kernel": "python3",
   "name": "tf2-cpu.2-11.m123",
   "type": "gcloud",
   "uri": "us-docker.pkg.dev/deeplearning-platform-release/gcr.io/tf2-cpu.2-11:m123"
  },
  "kernelspec": {
   "display_name": "Python 3",
   "language": "python",
   "name": "python3"
  },
  "language_info": {
   "codemirror_mode": {
    "name": "ipython",
    "version": 3
   },
   "file_extension": ".py",
   "mimetype": "text/x-python",
   "name": "python",
   "nbconvert_exporter": "python",
   "pygments_lexer": "ipython3",
   "version": "3.10.14"
  }
 },
 "nbformat": 4,
 "nbformat_minor": 5
}
