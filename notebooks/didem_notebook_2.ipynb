{
 "cells": [
  {
   "cell_type": "code",
   "execution_count": 1,
   "metadata": {},
   "outputs": [
    {
     "name": "stderr",
     "output_type": "stream",
     "text": [
      "2024-07-19 10:49:18.606032: I external/local_xla/xla/tsl/cuda/cudart_stub.cc:32] Could not find cuda drivers on your machine, GPU will not be used.\n",
      "2024-07-19 10:49:18.611303: I external/local_xla/xla/tsl/cuda/cudart_stub.cc:32] Could not find cuda drivers on your machine, GPU will not be used.\n",
      "2024-07-19 10:49:18.626285: E external/local_xla/xla/stream_executor/cuda/cuda_fft.cc:485] Unable to register cuFFT factory: Attempting to register factory for plugin cuFFT when one has already been registered\n",
      "2024-07-19 10:49:18.650146: E external/local_xla/xla/stream_executor/cuda/cuda_dnn.cc:8454] Unable to register cuDNN factory: Attempting to register factory for plugin cuDNN when one has already been registered\n",
      "2024-07-19 10:49:18.657166: E external/local_xla/xla/stream_executor/cuda/cuda_blas.cc:1452] Unable to register cuBLAS factory: Attempting to register factory for plugin cuBLAS when one has already been registered\n",
      "2024-07-19 10:49:18.675800: I tensorflow/core/platform/cpu_feature_guard.cc:210] This TensorFlow binary is optimized to use available CPU instructions in performance-critical operations.\n",
      "To enable the following instructions: AVX2 FMA, in other operations, rebuild TensorFlow with the appropriate compiler flags.\n"
     ]
    }
   ],
   "source": [
    "import pandas as pd\n",
    "import seaborn as sns\n",
    "import numpy as np\n",
    "import matplotlib.pyplot as plt\n",
    "from sklearn.metrics import confusion_matrix\n",
    "from sklearn.ensemble import RandomForestClassifier\n",
    "from sklearn.model_selection import train_test_split\n",
    "from sklearn.linear_model import LogisticRegression\n",
    "from sklearn.impute import SimpleImputer\n",
    "from sklearn.impute import KNNImputer\n",
    "from sklearn.metrics import accuracy_score, precision_score, recall_score, f1_score\n",
    "from sklearn.metrics import confusion_matrix, roc_auc_score, mean_absolute_error, mean_squared_error\n",
    "from sklearn.model_selection import GridSearchCV\n",
    "from sklearn.preprocessing import StandardScaler, MinMaxScaler\n",
    "import scipy.stats as stats\n",
    "# import xgboost as xgb\n",
    "\n",
    "import random\n",
    "import tensorflow as tf\n",
    "from tensorflow.keras import layers, models, optimizers, regularizers\n",
    "from tensorflow.keras.models import Sequential, save_model\n",
    "from tensorflow.keras.layers import LSTM, Dense, Dropout, Normalization\n",
    "from tensorflow.keras.optimizers import Adam\n",
    "from tensorflow.keras.callbacks import EarlyStopping, ReduceLROnPlateau\n",
    "from sklearn.metrics import classification_report, confusion_matrix\n",
    "\n",
    "from sklearn.ensemble import RandomForestClassifier"
   ]
  },
  {
   "cell_type": "code",
   "execution_count": 2,
   "metadata": {},
   "outputs": [
    {
     "data": {
      "text/html": [
       "<div>\n",
       "<style scoped>\n",
       "    .dataframe tbody tr th:only-of-type {\n",
       "        vertical-align: middle;\n",
       "    }\n",
       "\n",
       "    .dataframe tbody tr th {\n",
       "        vertical-align: top;\n",
       "    }\n",
       "\n",
       "    .dataframe thead th {\n",
       "        text-align: right;\n",
       "    }\n",
       "</style>\n",
       "<table border=\"1\" class=\"dataframe\">\n",
       "  <thead>\n",
       "    <tr style=\"text-align: right;\">\n",
       "      <th></th>\n",
       "      <th>Hour</th>\n",
       "      <th>HR</th>\n",
       "      <th>O2Sat</th>\n",
       "      <th>Temp</th>\n",
       "      <th>SBP</th>\n",
       "      <th>MAP</th>\n",
       "      <th>DBP</th>\n",
       "      <th>Resp</th>\n",
       "      <th>EtCO2</th>\n",
       "      <th>BaseExcess</th>\n",
       "      <th>...</th>\n",
       "      <th>Fibrinogen</th>\n",
       "      <th>Platelets</th>\n",
       "      <th>Age</th>\n",
       "      <th>Gender</th>\n",
       "      <th>Unit1</th>\n",
       "      <th>Unit2</th>\n",
       "      <th>HospAdmTime</th>\n",
       "      <th>ICULOS</th>\n",
       "      <th>SepsisLabel</th>\n",
       "      <th>Patient_ID</th>\n",
       "    </tr>\n",
       "  </thead>\n",
       "  <tbody>\n",
       "    <tr>\n",
       "      <th>0</th>\n",
       "      <td>0</td>\n",
       "      <td>NaN</td>\n",
       "      <td>NaN</td>\n",
       "      <td>NaN</td>\n",
       "      <td>NaN</td>\n",
       "      <td>NaN</td>\n",
       "      <td>NaN</td>\n",
       "      <td>NaN</td>\n",
       "      <td>NaN</td>\n",
       "      <td>NaN</td>\n",
       "      <td>...</td>\n",
       "      <td>NaN</td>\n",
       "      <td>NaN</td>\n",
       "      <td>68.54</td>\n",
       "      <td>0</td>\n",
       "      <td>NaN</td>\n",
       "      <td>NaN</td>\n",
       "      <td>-0.02</td>\n",
       "      <td>1</td>\n",
       "      <td>0</td>\n",
       "      <td>17072</td>\n",
       "    </tr>\n",
       "    <tr>\n",
       "      <th>1</th>\n",
       "      <td>1</td>\n",
       "      <td>65.0</td>\n",
       "      <td>100.0</td>\n",
       "      <td>NaN</td>\n",
       "      <td>NaN</td>\n",
       "      <td>72.0</td>\n",
       "      <td>NaN</td>\n",
       "      <td>16.5</td>\n",
       "      <td>NaN</td>\n",
       "      <td>NaN</td>\n",
       "      <td>...</td>\n",
       "      <td>NaN</td>\n",
       "      <td>NaN</td>\n",
       "      <td>68.54</td>\n",
       "      <td>0</td>\n",
       "      <td>NaN</td>\n",
       "      <td>NaN</td>\n",
       "      <td>-0.02</td>\n",
       "      <td>2</td>\n",
       "      <td>0</td>\n",
       "      <td>17072</td>\n",
       "    </tr>\n",
       "    <tr>\n",
       "      <th>2</th>\n",
       "      <td>2</td>\n",
       "      <td>78.0</td>\n",
       "      <td>100.0</td>\n",
       "      <td>NaN</td>\n",
       "      <td>NaN</td>\n",
       "      <td>42.5</td>\n",
       "      <td>NaN</td>\n",
       "      <td>NaN</td>\n",
       "      <td>NaN</td>\n",
       "      <td>NaN</td>\n",
       "      <td>...</td>\n",
       "      <td>NaN</td>\n",
       "      <td>NaN</td>\n",
       "      <td>68.54</td>\n",
       "      <td>0</td>\n",
       "      <td>NaN</td>\n",
       "      <td>NaN</td>\n",
       "      <td>-0.02</td>\n",
       "      <td>3</td>\n",
       "      <td>0</td>\n",
       "      <td>17072</td>\n",
       "    </tr>\n",
       "    <tr>\n",
       "      <th>3</th>\n",
       "      <td>3</td>\n",
       "      <td>73.0</td>\n",
       "      <td>100.0</td>\n",
       "      <td>NaN</td>\n",
       "      <td>NaN</td>\n",
       "      <td>NaN</td>\n",
       "      <td>NaN</td>\n",
       "      <td>17.0</td>\n",
       "      <td>NaN</td>\n",
       "      <td>NaN</td>\n",
       "      <td>...</td>\n",
       "      <td>NaN</td>\n",
       "      <td>NaN</td>\n",
       "      <td>68.54</td>\n",
       "      <td>0</td>\n",
       "      <td>NaN</td>\n",
       "      <td>NaN</td>\n",
       "      <td>-0.02</td>\n",
       "      <td>4</td>\n",
       "      <td>0</td>\n",
       "      <td>17072</td>\n",
       "    </tr>\n",
       "    <tr>\n",
       "      <th>4</th>\n",
       "      <td>4</td>\n",
       "      <td>70.0</td>\n",
       "      <td>100.0</td>\n",
       "      <td>NaN</td>\n",
       "      <td>129.0</td>\n",
       "      <td>74.0</td>\n",
       "      <td>69.0</td>\n",
       "      <td>14.0</td>\n",
       "      <td>NaN</td>\n",
       "      <td>NaN</td>\n",
       "      <td>...</td>\n",
       "      <td>NaN</td>\n",
       "      <td>330.0</td>\n",
       "      <td>68.54</td>\n",
       "      <td>0</td>\n",
       "      <td>NaN</td>\n",
       "      <td>NaN</td>\n",
       "      <td>-0.02</td>\n",
       "      <td>5</td>\n",
       "      <td>0</td>\n",
       "      <td>17072</td>\n",
       "    </tr>\n",
       "  </tbody>\n",
       "</table>\n",
       "<p>5 rows × 43 columns</p>\n",
       "</div>"
      ],
      "text/plain": [
       "   Hour    HR  O2Sat  Temp    SBP   MAP   DBP  Resp  EtCO2  BaseExcess  ...  \\\n",
       "0     0   NaN    NaN   NaN    NaN   NaN   NaN   NaN    NaN         NaN  ...   \n",
       "1     1  65.0  100.0   NaN    NaN  72.0   NaN  16.5    NaN         NaN  ...   \n",
       "2     2  78.0  100.0   NaN    NaN  42.5   NaN   NaN    NaN         NaN  ...   \n",
       "3     3  73.0  100.0   NaN    NaN   NaN   NaN  17.0    NaN         NaN  ...   \n",
       "4     4  70.0  100.0   NaN  129.0  74.0  69.0  14.0    NaN         NaN  ...   \n",
       "\n",
       "   Fibrinogen  Platelets    Age  Gender  Unit1  Unit2  HospAdmTime  ICULOS  \\\n",
       "0         NaN        NaN  68.54       0    NaN    NaN        -0.02       1   \n",
       "1         NaN        NaN  68.54       0    NaN    NaN        -0.02       2   \n",
       "2         NaN        NaN  68.54       0    NaN    NaN        -0.02       3   \n",
       "3         NaN        NaN  68.54       0    NaN    NaN        -0.02       4   \n",
       "4         NaN      330.0  68.54       0    NaN    NaN        -0.02       5   \n",
       "\n",
       "   SepsisLabel  Patient_ID  \n",
       "0            0       17072  \n",
       "1            0       17072  \n",
       "2            0       17072  \n",
       "3            0       17072  \n",
       "4            0       17072  \n",
       "\n",
       "[5 rows x 43 columns]"
      ]
     },
     "execution_count": 2,
     "metadata": {},
     "output_type": "execute_result"
    }
   ],
   "source": [
    "file_path = \"raw_data/Dataset.csv\"\n",
    "df = pd.read_csv(file_path, index_col = 0)\n",
    "df.head()"
   ]
  },
  {
   "cell_type": "code",
   "execution_count": 3,
   "metadata": {},
   "outputs": [
    {
     "data": {
      "text/plain": [
       "Patient_ID\n",
       "3658      336\n",
       "114471    336\n",
       "101922    336\n",
       "117406    336\n",
       "4905      336\n",
       "         ... \n",
       "110085      8\n",
       "16854       8\n",
       "118844      8\n",
       "16161       8\n",
       "109559      8\n",
       "Name: count, Length: 40336, dtype: int64"
      ]
     },
     "execution_count": 3,
     "metadata": {},
     "output_type": "execute_result"
    }
   ],
   "source": [
    "df.Patient_ID.value_counts()"
   ]
  },
  {
   "cell_type": "markdown",
   "metadata": {},
   "source": [
    "# Clean the Data\n",
    "\n",
    "## Missing Values"
   ]
  },
  {
   "cell_type": "code",
   "execution_count": 4,
   "metadata": {},
   "outputs": [
    {
     "data": {
      "text/plain": [
       "Bilirubin_direct    0.998074\n",
       "Fibrinogen          0.993402\n",
       "TroponinI           0.990477\n",
       "Bilirubin_total     0.985092\n",
       "Alkalinephos        0.983932\n",
       "AST                 0.983776\n",
       "Lactate             0.973299\n",
       "PTT                 0.970559\n",
       "SaO2                0.965494\n",
       "EtCO2               0.962868\n",
       "Phosphate           0.959863\n",
       "HCO3                0.958106\n",
       "Chloride            0.954603\n",
       "BaseExcess          0.945790\n",
       "PaCO2               0.944401\n",
       "Calcium             0.941161\n",
       "Platelets           0.940595\n",
       "Creatinine          0.939044\n",
       "Magnesium           0.936896\n",
       "WBC                 0.935932\n",
       "BUN                 0.931344\n",
       "pH                  0.930697\n",
       "Hgb                 0.926176\n",
       "FiO2                0.916658\n",
       "Hct                 0.911460\n",
       "Potassium           0.906891\n",
       "Glucose             0.828943\n",
       "Temp                0.661627\n",
       "Unit1               0.394251\n",
       "Unit2               0.394251\n",
       "DBP                 0.313459\n",
       "Resp                0.153546\n",
       "SBP                 0.145770\n",
       "O2Sat               0.130611\n",
       "MAP                 0.124513\n",
       "HR                  0.098826\n",
       "HospAdmTime         0.000005\n",
       "SepsisLabel         0.000000\n",
       "ICULOS              0.000000\n",
       "Hour                0.000000\n",
       "Gender              0.000000\n",
       "Age                 0.000000\n",
       "Patient_ID          0.000000\n",
       "dtype: float64"
      ]
     },
     "execution_count": 4,
     "metadata": {},
     "output_type": "execute_result"
    }
   ],
   "source": [
    "(df.isnull().sum()/len(df)).sort_values(ascending=False)"
   ]
  },
  {
   "cell_type": "markdown",
   "metadata": {},
   "source": [
    " ## Dropping Blood Test Features"
   ]
  },
  {
   "cell_type": "code",
   "execution_count": 5,
   "metadata": {},
   "outputs": [],
   "source": [
    "#features to drop in the dataset\n",
    "\n",
    "columns_drop = ['EtCO2','BaseExcess', 'HCO3','pH','PaCO2','Alkalinephos', 'Calcium','Magnesium',\n",
    "  'Phosphate','Potassium','PTT','Fibrinogen','Unit1','Unit2']\n",
    "\n",
    "columns_for_baseline = ['Hour', 'HR','O2Sat', 'Temp','SBP', 'MAP', 'DBP', 'Resp','Age','Gender','Patient_ID','SepsisLabel']"
   ]
  },
  {
   "cell_type": "code",
   "execution_count": 6,
   "metadata": {},
   "outputs": [
    {
     "data": {
      "text/html": [
       "<div>\n",
       "<style scoped>\n",
       "    .dataframe tbody tr th:only-of-type {\n",
       "        vertical-align: middle;\n",
       "    }\n",
       "\n",
       "    .dataframe tbody tr th {\n",
       "        vertical-align: top;\n",
       "    }\n",
       "\n",
       "    .dataframe thead th {\n",
       "        text-align: right;\n",
       "    }\n",
       "</style>\n",
       "<table border=\"1\" class=\"dataframe\">\n",
       "  <thead>\n",
       "    <tr style=\"text-align: right;\">\n",
       "      <th></th>\n",
       "      <th>Hour</th>\n",
       "      <th>HR</th>\n",
       "      <th>O2Sat</th>\n",
       "      <th>Temp</th>\n",
       "      <th>SBP</th>\n",
       "      <th>MAP</th>\n",
       "      <th>DBP</th>\n",
       "      <th>Resp</th>\n",
       "      <th>Age</th>\n",
       "      <th>Gender</th>\n",
       "      <th>Patient_ID</th>\n",
       "      <th>SepsisLabel</th>\n",
       "    </tr>\n",
       "  </thead>\n",
       "  <tbody>\n",
       "    <tr>\n",
       "      <th>0</th>\n",
       "      <td>0</td>\n",
       "      <td>NaN</td>\n",
       "      <td>NaN</td>\n",
       "      <td>NaN</td>\n",
       "      <td>NaN</td>\n",
       "      <td>NaN</td>\n",
       "      <td>NaN</td>\n",
       "      <td>NaN</td>\n",
       "      <td>68.54</td>\n",
       "      <td>0</td>\n",
       "      <td>17072</td>\n",
       "      <td>0</td>\n",
       "    </tr>\n",
       "    <tr>\n",
       "      <th>1</th>\n",
       "      <td>1</td>\n",
       "      <td>65.0</td>\n",
       "      <td>100.0</td>\n",
       "      <td>NaN</td>\n",
       "      <td>NaN</td>\n",
       "      <td>72.0</td>\n",
       "      <td>NaN</td>\n",
       "      <td>16.5</td>\n",
       "      <td>68.54</td>\n",
       "      <td>0</td>\n",
       "      <td>17072</td>\n",
       "      <td>0</td>\n",
       "    </tr>\n",
       "    <tr>\n",
       "      <th>2</th>\n",
       "      <td>2</td>\n",
       "      <td>78.0</td>\n",
       "      <td>100.0</td>\n",
       "      <td>NaN</td>\n",
       "      <td>NaN</td>\n",
       "      <td>42.5</td>\n",
       "      <td>NaN</td>\n",
       "      <td>NaN</td>\n",
       "      <td>68.54</td>\n",
       "      <td>0</td>\n",
       "      <td>17072</td>\n",
       "      <td>0</td>\n",
       "    </tr>\n",
       "    <tr>\n",
       "      <th>3</th>\n",
       "      <td>3</td>\n",
       "      <td>73.0</td>\n",
       "      <td>100.0</td>\n",
       "      <td>NaN</td>\n",
       "      <td>NaN</td>\n",
       "      <td>NaN</td>\n",
       "      <td>NaN</td>\n",
       "      <td>17.0</td>\n",
       "      <td>68.54</td>\n",
       "      <td>0</td>\n",
       "      <td>17072</td>\n",
       "      <td>0</td>\n",
       "    </tr>\n",
       "    <tr>\n",
       "      <th>4</th>\n",
       "      <td>4</td>\n",
       "      <td>70.0</td>\n",
       "      <td>100.0</td>\n",
       "      <td>NaN</td>\n",
       "      <td>129.0</td>\n",
       "      <td>74.0</td>\n",
       "      <td>69.0</td>\n",
       "      <td>14.0</td>\n",
       "      <td>68.54</td>\n",
       "      <td>0</td>\n",
       "      <td>17072</td>\n",
       "      <td>0</td>\n",
       "    </tr>\n",
       "  </tbody>\n",
       "</table>\n",
       "</div>"
      ],
      "text/plain": [
       "   Hour    HR  O2Sat  Temp    SBP   MAP   DBP  Resp    Age  Gender  \\\n",
       "0     0   NaN    NaN   NaN    NaN   NaN   NaN   NaN  68.54       0   \n",
       "1     1  65.0  100.0   NaN    NaN  72.0   NaN  16.5  68.54       0   \n",
       "2     2  78.0  100.0   NaN    NaN  42.5   NaN   NaN  68.54       0   \n",
       "3     3  73.0  100.0   NaN    NaN   NaN   NaN  17.0  68.54       0   \n",
       "4     4  70.0  100.0   NaN  129.0  74.0  69.0  14.0  68.54       0   \n",
       "\n",
       "   Patient_ID  SepsisLabel  \n",
       "0       17072            0  \n",
       "1       17072            0  \n",
       "2       17072            0  \n",
       "3       17072            0  \n",
       "4       17072            0  "
      ]
     },
     "execution_count": 6,
     "metadata": {},
     "output_type": "execute_result"
    }
   ],
   "source": [
    "df1 = df[columns_for_baseline]\n",
    "df1.head()"
   ]
  },
  {
   "cell_type": "markdown",
   "metadata": {},
   "source": [
    " ## Reducing the number of Patients "
   ]
  },
  {
   "cell_type": "code",
   "execution_count": 7,
   "metadata": {
    "tags": []
   },
   "outputs": [
    {
     "data": {
      "text/plain": [
       "2932"
      ]
     },
     "execution_count": 7,
     "metadata": {},
     "output_type": "execute_result"
    }
   ],
   "source": [
    "# Filter patient IDs where at some point sepsis label is 1\n",
    "sepsis_patients_ids = list(set(df1.loc[df1['SepsisLabel'] == 1, 'Patient_ID'].tolist()))\n",
    "len(sepsis_patients_ids)"
   ]
  },
  {
   "cell_type": "code",
   "execution_count": 8,
   "metadata": {
    "tags": []
   },
   "outputs": [
    {
     "data": {
      "text/plain": [
       "37404"
      ]
     },
     "execution_count": 8,
     "metadata": {},
     "output_type": "execute_result"
    }
   ],
   "source": [
    "# Get unique Patient_IDs from df_encoded\n",
    "all_patient_ids = set(df1['Patient_ID'])\n",
    "# Find Patient_IDs not in sepsis_patients_ids\n",
    "no_sepsis_patients_ids = list(all_patient_ids - set(sepsis_patients_ids))\n",
    "len(no_sepsis_patients_ids)"
   ]
  },
  {
   "cell_type": "code",
   "execution_count": 9,
   "metadata": {
    "tags": []
   },
   "outputs": [],
   "source": [
    "non_sepsis_selected_patients_ids = random.sample(no_sepsis_patients_ids, 4000)"
   ]
  },
  {
   "cell_type": "code",
   "execution_count": 10,
   "metadata": {
    "tags": []
   },
   "outputs": [],
   "source": [
    "non_sepsis_selected_df = df1.loc[df1['Patient_ID'].isin(non_sepsis_selected_patients_ids)]\n",
    "sepsis_selected_df = df1.loc[df1['Patient_ID'].isin(sepsis_patients_ids)]"
   ]
  },
  {
   "cell_type": "code",
   "execution_count": 11,
   "metadata": {
    "tags": []
   },
   "outputs": [
    {
     "data": {
      "text/html": [
       "<div>\n",
       "<style scoped>\n",
       "    .dataframe tbody tr th:only-of-type {\n",
       "        vertical-align: middle;\n",
       "    }\n",
       "\n",
       "    .dataframe tbody tr th {\n",
       "        vertical-align: top;\n",
       "    }\n",
       "\n",
       "    .dataframe thead th {\n",
       "        text-align: right;\n",
       "    }\n",
       "</style>\n",
       "<table border=\"1\" class=\"dataframe\">\n",
       "  <thead>\n",
       "    <tr style=\"text-align: right;\">\n",
       "      <th></th>\n",
       "      <th>Hour</th>\n",
       "      <th>HR</th>\n",
       "      <th>O2Sat</th>\n",
       "      <th>Temp</th>\n",
       "      <th>SBP</th>\n",
       "      <th>MAP</th>\n",
       "      <th>DBP</th>\n",
       "      <th>Resp</th>\n",
       "      <th>Age</th>\n",
       "      <th>Gender</th>\n",
       "      <th>Patient_ID</th>\n",
       "      <th>SepsisLabel</th>\n",
       "    </tr>\n",
       "  </thead>\n",
       "  <tbody>\n",
       "    <tr>\n",
       "      <th>0</th>\n",
       "      <td>0</td>\n",
       "      <td>88.0</td>\n",
       "      <td>100.0</td>\n",
       "      <td>34.60</td>\n",
       "      <td>114.50</td>\n",
       "      <td>90.0</td>\n",
       "      <td>71.50</td>\n",
       "      <td>10.0</td>\n",
       "      <td>60.42</td>\n",
       "      <td>0</td>\n",
       "      <td>1380</td>\n",
       "      <td>0</td>\n",
       "    </tr>\n",
       "    <tr>\n",
       "      <th>1</th>\n",
       "      <td>1</td>\n",
       "      <td>88.0</td>\n",
       "      <td>100.0</td>\n",
       "      <td>34.90</td>\n",
       "      <td>116.00</td>\n",
       "      <td>91.0</td>\n",
       "      <td>75.00</td>\n",
       "      <td>10.0</td>\n",
       "      <td>60.42</td>\n",
       "      <td>0</td>\n",
       "      <td>1380</td>\n",
       "      <td>0</td>\n",
       "    </tr>\n",
       "    <tr>\n",
       "      <th>2</th>\n",
       "      <td>2</td>\n",
       "      <td>88.0</td>\n",
       "      <td>100.0</td>\n",
       "      <td>36.05</td>\n",
       "      <td>112.75</td>\n",
       "      <td>85.5</td>\n",
       "      <td>71.50</td>\n",
       "      <td>11.0</td>\n",
       "      <td>60.42</td>\n",
       "      <td>0</td>\n",
       "      <td>1380</td>\n",
       "      <td>0</td>\n",
       "    </tr>\n",
       "    <tr>\n",
       "      <th>3</th>\n",
       "      <td>3</td>\n",
       "      <td>88.0</td>\n",
       "      <td>99.5</td>\n",
       "      <td>36.90</td>\n",
       "      <td>113.00</td>\n",
       "      <td>89.5</td>\n",
       "      <td>76.25</td>\n",
       "      <td>12.5</td>\n",
       "      <td>60.42</td>\n",
       "      <td>0</td>\n",
       "      <td>1380</td>\n",
       "      <td>0</td>\n",
       "    </tr>\n",
       "    <tr>\n",
       "      <th>4</th>\n",
       "      <td>4</td>\n",
       "      <td>87.0</td>\n",
       "      <td>100.0</td>\n",
       "      <td>37.00</td>\n",
       "      <td>107.50</td>\n",
       "      <td>88.0</td>\n",
       "      <td>77.00</td>\n",
       "      <td>13.0</td>\n",
       "      <td>60.42</td>\n",
       "      <td>0</td>\n",
       "      <td>1380</td>\n",
       "      <td>0</td>\n",
       "    </tr>\n",
       "  </tbody>\n",
       "</table>\n",
       "</div>"
      ],
      "text/plain": [
       "   Hour    HR  O2Sat   Temp     SBP   MAP    DBP  Resp    Age  Gender  \\\n",
       "0     0  88.0  100.0  34.60  114.50  90.0  71.50  10.0  60.42       0   \n",
       "1     1  88.0  100.0  34.90  116.00  91.0  75.00  10.0  60.42       0   \n",
       "2     2  88.0  100.0  36.05  112.75  85.5  71.50  11.0  60.42       0   \n",
       "3     3  88.0   99.5  36.90  113.00  89.5  76.25  12.5  60.42       0   \n",
       "4     4  87.0  100.0  37.00  107.50  88.0  77.00  13.0  60.42       0   \n",
       "\n",
       "   Patient_ID  SepsisLabel  \n",
       "0        1380            0  \n",
       "1        1380            0  \n",
       "2        1380            0  \n",
       "3        1380            0  \n",
       "4        1380            0  "
      ]
     },
     "execution_count": 11,
     "metadata": {},
     "output_type": "execute_result"
    }
   ],
   "source": [
    "final_df = pd.concat([non_sepsis_selected_df,sepsis_selected_df])\n",
    "final_df.head()"
   ]
  },
  {
   "cell_type": "code",
   "execution_count": 12,
   "metadata": {
    "tags": []
   },
   "outputs": [
    {
     "data": {
      "text/html": [
       "<div>\n",
       "<style scoped>\n",
       "    .dataframe tbody tr th:only-of-type {\n",
       "        vertical-align: middle;\n",
       "    }\n",
       "\n",
       "    .dataframe tbody tr th {\n",
       "        vertical-align: top;\n",
       "    }\n",
       "\n",
       "    .dataframe thead th {\n",
       "        text-align: right;\n",
       "    }\n",
       "</style>\n",
       "<table border=\"1\" class=\"dataframe\">\n",
       "  <thead>\n",
       "    <tr style=\"text-align: right;\">\n",
       "      <th></th>\n",
       "      <th>Hour</th>\n",
       "      <th>HR</th>\n",
       "      <th>O2Sat</th>\n",
       "      <th>Temp</th>\n",
       "      <th>SBP</th>\n",
       "      <th>MAP</th>\n",
       "      <th>DBP</th>\n",
       "      <th>Resp</th>\n",
       "      <th>Age</th>\n",
       "      <th>Gender</th>\n",
       "      <th>Patient_ID</th>\n",
       "      <th>SepsisLabel</th>\n",
       "    </tr>\n",
       "  </thead>\n",
       "  <tbody>\n",
       "    <tr>\n",
       "      <th>0</th>\n",
       "      <td>0</td>\n",
       "      <td>88.0</td>\n",
       "      <td>100.0</td>\n",
       "      <td>34.60</td>\n",
       "      <td>114.50</td>\n",
       "      <td>90.0</td>\n",
       "      <td>71.50</td>\n",
       "      <td>10.0</td>\n",
       "      <td>60.42</td>\n",
       "      <td>0</td>\n",
       "      <td>1380</td>\n",
       "      <td>0</td>\n",
       "    </tr>\n",
       "    <tr>\n",
       "      <th>1</th>\n",
       "      <td>1</td>\n",
       "      <td>88.0</td>\n",
       "      <td>100.0</td>\n",
       "      <td>34.90</td>\n",
       "      <td>116.00</td>\n",
       "      <td>91.0</td>\n",
       "      <td>75.00</td>\n",
       "      <td>10.0</td>\n",
       "      <td>60.42</td>\n",
       "      <td>0</td>\n",
       "      <td>1380</td>\n",
       "      <td>0</td>\n",
       "    </tr>\n",
       "    <tr>\n",
       "      <th>2</th>\n",
       "      <td>2</td>\n",
       "      <td>88.0</td>\n",
       "      <td>100.0</td>\n",
       "      <td>36.05</td>\n",
       "      <td>112.75</td>\n",
       "      <td>85.5</td>\n",
       "      <td>71.50</td>\n",
       "      <td>11.0</td>\n",
       "      <td>60.42</td>\n",
       "      <td>0</td>\n",
       "      <td>1380</td>\n",
       "      <td>0</td>\n",
       "    </tr>\n",
       "    <tr>\n",
       "      <th>3</th>\n",
       "      <td>3</td>\n",
       "      <td>88.0</td>\n",
       "      <td>99.5</td>\n",
       "      <td>36.90</td>\n",
       "      <td>113.00</td>\n",
       "      <td>89.5</td>\n",
       "      <td>76.25</td>\n",
       "      <td>12.5</td>\n",
       "      <td>60.42</td>\n",
       "      <td>0</td>\n",
       "      <td>1380</td>\n",
       "      <td>0</td>\n",
       "    </tr>\n",
       "    <tr>\n",
       "      <th>4</th>\n",
       "      <td>4</td>\n",
       "      <td>87.0</td>\n",
       "      <td>100.0</td>\n",
       "      <td>37.00</td>\n",
       "      <td>107.50</td>\n",
       "      <td>88.0</td>\n",
       "      <td>77.00</td>\n",
       "      <td>13.0</td>\n",
       "      <td>60.42</td>\n",
       "      <td>0</td>\n",
       "      <td>1380</td>\n",
       "      <td>0</td>\n",
       "    </tr>\n",
       "    <tr>\n",
       "      <th>...</th>\n",
       "      <td>...</td>\n",
       "      <td>...</td>\n",
       "      <td>...</td>\n",
       "      <td>...</td>\n",
       "      <td>...</td>\n",
       "      <td>...</td>\n",
       "      <td>...</td>\n",
       "      <td>...</td>\n",
       "      <td>...</td>\n",
       "      <td>...</td>\n",
       "      <td>...</td>\n",
       "      <td>...</td>\n",
       "    </tr>\n",
       "    <tr>\n",
       "      <th>5</th>\n",
       "      <td>5</td>\n",
       "      <td>54.5</td>\n",
       "      <td>98.5</td>\n",
       "      <td>37.20</td>\n",
       "      <td>104.50</td>\n",
       "      <td>74.0</td>\n",
       "      <td>55.00</td>\n",
       "      <td>NaN</td>\n",
       "      <td>66.00</td>\n",
       "      <td>1</td>\n",
       "      <td>119010</td>\n",
       "      <td>1</td>\n",
       "    </tr>\n",
       "    <tr>\n",
       "      <th>6</th>\n",
       "      <td>6</td>\n",
       "      <td>54.0</td>\n",
       "      <td>96.0</td>\n",
       "      <td>NaN</td>\n",
       "      <td>112.00</td>\n",
       "      <td>74.0</td>\n",
       "      <td>52.00</td>\n",
       "      <td>NaN</td>\n",
       "      <td>66.00</td>\n",
       "      <td>1</td>\n",
       "      <td>119010</td>\n",
       "      <td>1</td>\n",
       "    </tr>\n",
       "    <tr>\n",
       "      <th>7</th>\n",
       "      <td>7</td>\n",
       "      <td>67.5</td>\n",
       "      <td>96.5</td>\n",
       "      <td>NaN</td>\n",
       "      <td>118.00</td>\n",
       "      <td>77.0</td>\n",
       "      <td>55.00</td>\n",
       "      <td>NaN</td>\n",
       "      <td>66.00</td>\n",
       "      <td>1</td>\n",
       "      <td>119010</td>\n",
       "      <td>1</td>\n",
       "    </tr>\n",
       "    <tr>\n",
       "      <th>8</th>\n",
       "      <td>8</td>\n",
       "      <td>67.0</td>\n",
       "      <td>96.0</td>\n",
       "      <td>NaN</td>\n",
       "      <td>115.50</td>\n",
       "      <td>76.0</td>\n",
       "      <td>55.50</td>\n",
       "      <td>NaN</td>\n",
       "      <td>66.00</td>\n",
       "      <td>1</td>\n",
       "      <td>119010</td>\n",
       "      <td>1</td>\n",
       "    </tr>\n",
       "    <tr>\n",
       "      <th>9</th>\n",
       "      <td>9</td>\n",
       "      <td>64.5</td>\n",
       "      <td>95.0</td>\n",
       "      <td>NaN</td>\n",
       "      <td>113.50</td>\n",
       "      <td>74.5</td>\n",
       "      <td>55.00</td>\n",
       "      <td>NaN</td>\n",
       "      <td>66.00</td>\n",
       "      <td>1</td>\n",
       "      <td>119010</td>\n",
       "      <td>1</td>\n",
       "    </tr>\n",
       "  </tbody>\n",
       "</table>\n",
       "<p>320379 rows × 12 columns</p>\n",
       "</div>"
      ],
      "text/plain": [
       "    Hour    HR  O2Sat   Temp     SBP   MAP    DBP  Resp    Age  Gender  \\\n",
       "0      0  88.0  100.0  34.60  114.50  90.0  71.50  10.0  60.42       0   \n",
       "1      1  88.0  100.0  34.90  116.00  91.0  75.00  10.0  60.42       0   \n",
       "2      2  88.0  100.0  36.05  112.75  85.5  71.50  11.0  60.42       0   \n",
       "3      3  88.0   99.5  36.90  113.00  89.5  76.25  12.5  60.42       0   \n",
       "4      4  87.0  100.0  37.00  107.50  88.0  77.00  13.0  60.42       0   \n",
       "..   ...   ...    ...    ...     ...   ...    ...   ...    ...     ...   \n",
       "5      5  54.5   98.5  37.20  104.50  74.0  55.00   NaN  66.00       1   \n",
       "6      6  54.0   96.0    NaN  112.00  74.0  52.00   NaN  66.00       1   \n",
       "7      7  67.5   96.5    NaN  118.00  77.0  55.00   NaN  66.00       1   \n",
       "8      8  67.0   96.0    NaN  115.50  76.0  55.50   NaN  66.00       1   \n",
       "9      9  64.5   95.0    NaN  113.50  74.5  55.00   NaN  66.00       1   \n",
       "\n",
       "    Patient_ID  SepsisLabel  \n",
       "0         1380            0  \n",
       "1         1380            0  \n",
       "2         1380            0  \n",
       "3         1380            0  \n",
       "4         1380            0  \n",
       "..         ...          ...  \n",
       "5       119010            1  \n",
       "6       119010            1  \n",
       "7       119010            1  \n",
       "8       119010            1  \n",
       "9       119010            1  \n",
       "\n",
       "[320379 rows x 12 columns]"
      ]
     },
     "execution_count": 12,
     "metadata": {},
     "output_type": "execute_result"
    }
   ],
   "source": [
    "final_df"
   ]
  },
  {
   "cell_type": "markdown",
   "metadata": {},
   "source": [
    "## Creating a Final_df to find the all missing values and fill them"
   ]
  },
  {
   "cell_type": "code",
   "execution_count": 13,
   "metadata": {
    "tags": []
   },
   "outputs": [],
   "source": [
    "patient_ids = final_df['Patient_ID'].unique()\n",
    "np.random.shuffle(patient_ids)"
   ]
  },
  {
   "cell_type": "code",
   "execution_count": 14,
   "metadata": {
    "tags": []
   },
   "outputs": [],
   "source": [
    "final_df.Patient_ID = final_df.Patient_ID.astype(\"category\")\n",
    "final_df.Patient_ID = final_df.Patient_ID.cat.set_categories(patient_ids)\n",
    "final_df_shuffled = final_df.sort_values([\"Patient_ID\", \"Hour\"]).set_index('Patient_ID')  ## 'sort' changed to 'patient_ids'"
   ]
  },
  {
   "cell_type": "code",
   "execution_count": 15,
   "metadata": {},
   "outputs": [
    {
     "data": {
      "text/plain": [
       "Temp           0.654362\n",
       "DBP            0.283586\n",
       "Resp           0.142200\n",
       "SBP            0.141891\n",
       "O2Sat          0.111655\n",
       "MAP            0.106340\n",
       "HR             0.085230\n",
       "Hour           0.000000\n",
       "Age            0.000000\n",
       "Gender         0.000000\n",
       "Patient_ID     0.000000\n",
       "SepsisLabel    0.000000\n",
       "dtype: float64"
      ]
     },
     "execution_count": 15,
     "metadata": {},
     "output_type": "execute_result"
    }
   ],
   "source": [
    "(final_df.isnull().sum()/len(final_df)).sort_values(ascending=False)"
   ]
  },
  {
   "cell_type": "code",
   "execution_count": 16,
   "metadata": {
    "tags": []
   },
   "outputs": [
    {
     "name": "stdout",
     "output_type": "stream",
     "text": [
      "<class 'pandas.core.frame.DataFrame'>\n",
      "Index: 320379 entries, 0 to 9\n",
      "Data columns (total 12 columns):\n",
      " #   Column       Non-Null Count   Dtype   \n",
      "---  ------       --------------   -----   \n",
      " 0   Hour         320379 non-null  int64   \n",
      " 1   HR           293073 non-null  float64 \n",
      " 2   O2Sat        284607 non-null  float64 \n",
      " 3   Temp         110735 non-null  float64 \n",
      " 4   SBP          274920 non-null  float64 \n",
      " 5   MAP          286310 non-null  float64 \n",
      " 6   DBP          229524 non-null  float64 \n",
      " 7   Resp         274821 non-null  float64 \n",
      " 8   Age          320379 non-null  float64 \n",
      " 9   Gender       320379 non-null  int64   \n",
      " 10  Patient_ID   320379 non-null  category\n",
      " 11  SepsisLabel  320379 non-null  int64   \n",
      "dtypes: category(1), float64(8), int64(3)\n",
      "memory usage: 30.2 MB\n"
     ]
    }
   ],
   "source": [
    "final_df.info()"
   ]
  },
  {
   "cell_type": "code",
   "execution_count": 17,
   "metadata": {
    "tags": []
   },
   "outputs": [
    {
     "name": "stderr",
     "output_type": "stream",
     "text": [
      "/var/tmp/ipykernel_41051/3239861808.py:1: FutureWarning: The default of observed=False is deprecated and will be changed to True in a future version of pandas. Pass observed=False to retain current behavior or observed=True to adopt the future default and silence this warning.\n",
      "  final_df.groupby(\"Patient_ID\", group_keys = False).sum()\n"
     ]
    },
    {
     "data": {
      "text/html": [
       "<div>\n",
       "<style scoped>\n",
       "    .dataframe tbody tr th:only-of-type {\n",
       "        vertical-align: middle;\n",
       "    }\n",
       "\n",
       "    .dataframe tbody tr th {\n",
       "        vertical-align: top;\n",
       "    }\n",
       "\n",
       "    .dataframe thead th {\n",
       "        text-align: right;\n",
       "    }\n",
       "</style>\n",
       "<table border=\"1\" class=\"dataframe\">\n",
       "  <thead>\n",
       "    <tr style=\"text-align: right;\">\n",
       "      <th></th>\n",
       "      <th>Hour</th>\n",
       "      <th>HR</th>\n",
       "      <th>O2Sat</th>\n",
       "      <th>Temp</th>\n",
       "      <th>SBP</th>\n",
       "      <th>MAP</th>\n",
       "      <th>DBP</th>\n",
       "      <th>Resp</th>\n",
       "      <th>Age</th>\n",
       "      <th>Gender</th>\n",
       "      <th>SepsisLabel</th>\n",
       "    </tr>\n",
       "    <tr>\n",
       "      <th>Patient_ID</th>\n",
       "      <th></th>\n",
       "      <th></th>\n",
       "      <th></th>\n",
       "      <th></th>\n",
       "      <th></th>\n",
       "      <th></th>\n",
       "      <th></th>\n",
       "      <th></th>\n",
       "      <th></th>\n",
       "      <th></th>\n",
       "      <th></th>\n",
       "    </tr>\n",
       "  </thead>\n",
       "  <tbody>\n",
       "    <tr>\n",
       "      <th>8713</th>\n",
       "      <td>11781</td>\n",
       "      <td>13823.5</td>\n",
       "      <td>13304.5</td>\n",
       "      <td>4420.17</td>\n",
       "      <td>17931.75</td>\n",
       "      <td>12120.00</td>\n",
       "      <td>9247.50</td>\n",
       "      <td>2745.0</td>\n",
       "      <td>8798.02</td>\n",
       "      <td>154</td>\n",
       "      <td>9</td>\n",
       "    </tr>\n",
       "    <tr>\n",
       "      <th>16348</th>\n",
       "      <td>7750</td>\n",
       "      <td>9670.5</td>\n",
       "      <td>11712.5</td>\n",
       "      <td>1581.91</td>\n",
       "      <td>11803.00</td>\n",
       "      <td>8348.50</td>\n",
       "      <td>6679.25</td>\n",
       "      <td>1638.0</td>\n",
       "      <td>5803.75</td>\n",
       "      <td>125</td>\n",
       "      <td>9</td>\n",
       "    </tr>\n",
       "    <tr>\n",
       "      <th>104780</th>\n",
       "      <td>55</td>\n",
       "      <td>867.0</td>\n",
       "      <td>917.0</td>\n",
       "      <td>72.00</td>\n",
       "      <td>873.00</td>\n",
       "      <td>572.00</td>\n",
       "      <td>443.00</td>\n",
       "      <td>157.0</td>\n",
       "      <td>814.00</td>\n",
       "      <td>0</td>\n",
       "      <td>10</td>\n",
       "    </tr>\n",
       "    <tr>\n",
       "      <th>11638</th>\n",
       "      <td>5050</td>\n",
       "      <td>8458.0</td>\n",
       "      <td>9464.5</td>\n",
       "      <td>3753.35</td>\n",
       "      <td>12183.25</td>\n",
       "      <td>7120.00</td>\n",
       "      <td>5078.75</td>\n",
       "      <td>2247.0</td>\n",
       "      <td>7485.11</td>\n",
       "      <td>101</td>\n",
       "      <td>9</td>\n",
       "    </tr>\n",
       "    <tr>\n",
       "      <th>117335</th>\n",
       "      <td>7381</td>\n",
       "      <td>9544.0</td>\n",
       "      <td>10331.5</td>\n",
       "      <td>3778.85</td>\n",
       "      <td>17238.50</td>\n",
       "      <td>9777.50</td>\n",
       "      <td>6771.00</td>\n",
       "      <td>1321.0</td>\n",
       "      <td>5368.00</td>\n",
       "      <td>122</td>\n",
       "      <td>10</td>\n",
       "    </tr>\n",
       "    <tr>\n",
       "      <th>...</th>\n",
       "      <td>...</td>\n",
       "      <td>...</td>\n",
       "      <td>...</td>\n",
       "      <td>...</td>\n",
       "      <td>...</td>\n",
       "      <td>...</td>\n",
       "      <td>...</td>\n",
       "      <td>...</td>\n",
       "      <td>...</td>\n",
       "      <td>...</td>\n",
       "      <td>...</td>\n",
       "    </tr>\n",
       "    <tr>\n",
       "      <th>102771</th>\n",
       "      <td>1770</td>\n",
       "      <td>4861.0</td>\n",
       "      <td>5375.5</td>\n",
       "      <td>1006.35</td>\n",
       "      <td>7205.50</td>\n",
       "      <td>4704.00</td>\n",
       "      <td>3528.00</td>\n",
       "      <td>852.5</td>\n",
       "      <td>4680.00</td>\n",
       "      <td>60</td>\n",
       "      <td>10</td>\n",
       "    </tr>\n",
       "    <tr>\n",
       "      <th>11132</th>\n",
       "      <td>3655</td>\n",
       "      <td>7843.0</td>\n",
       "      <td>8241.0</td>\n",
       "      <td>740.46</td>\n",
       "      <td>12187.50</td>\n",
       "      <td>6656.50</td>\n",
       "      <td>4485.00</td>\n",
       "      <td>1743.0</td>\n",
       "      <td>4569.18</td>\n",
       "      <td>86</td>\n",
       "      <td>9</td>\n",
       "    </tr>\n",
       "    <tr>\n",
       "      <th>12481</th>\n",
       "      <td>1128</td>\n",
       "      <td>4029.5</td>\n",
       "      <td>4510.5</td>\n",
       "      <td>441.00</td>\n",
       "      <td>8338.50</td>\n",
       "      <td>5058.67</td>\n",
       "      <td>3491.50</td>\n",
       "      <td>960.5</td>\n",
       "      <td>3409.92</td>\n",
       "      <td>48</td>\n",
       "      <td>0</td>\n",
       "    </tr>\n",
       "    <tr>\n",
       "      <th>102721</th>\n",
       "      <td>1653</td>\n",
       "      <td>7149.0</td>\n",
       "      <td>5633.0</td>\n",
       "      <td>541.80</td>\n",
       "      <td>6486.50</td>\n",
       "      <td>4783.50</td>\n",
       "      <td>3815.50</td>\n",
       "      <td>1484.5</td>\n",
       "      <td>1856.00</td>\n",
       "      <td>0</td>\n",
       "      <td>0</td>\n",
       "    </tr>\n",
       "    <tr>\n",
       "      <th>12278</th>\n",
       "      <td>4465</td>\n",
       "      <td>7440.0</td>\n",
       "      <td>8625.0</td>\n",
       "      <td>844.31</td>\n",
       "      <td>10971.00</td>\n",
       "      <td>6742.97</td>\n",
       "      <td>0.00</td>\n",
       "      <td>1457.0</td>\n",
       "      <td>6018.25</td>\n",
       "      <td>0</td>\n",
       "      <td>10</td>\n",
       "    </tr>\n",
       "  </tbody>\n",
       "</table>\n",
       "<p>6932 rows × 11 columns</p>\n",
       "</div>"
      ],
      "text/plain": [
       "             Hour       HR    O2Sat     Temp       SBP       MAP      DBP  \\\n",
       "Patient_ID                                                                  \n",
       "8713        11781  13823.5  13304.5  4420.17  17931.75  12120.00  9247.50   \n",
       "16348        7750   9670.5  11712.5  1581.91  11803.00   8348.50  6679.25   \n",
       "104780         55    867.0    917.0    72.00    873.00    572.00   443.00   \n",
       "11638        5050   8458.0   9464.5  3753.35  12183.25   7120.00  5078.75   \n",
       "117335       7381   9544.0  10331.5  3778.85  17238.50   9777.50  6771.00   \n",
       "...           ...      ...      ...      ...       ...       ...      ...   \n",
       "102771       1770   4861.0   5375.5  1006.35   7205.50   4704.00  3528.00   \n",
       "11132        3655   7843.0   8241.0   740.46  12187.50   6656.50  4485.00   \n",
       "12481        1128   4029.5   4510.5   441.00   8338.50   5058.67  3491.50   \n",
       "102721       1653   7149.0   5633.0   541.80   6486.50   4783.50  3815.50   \n",
       "12278        4465   7440.0   8625.0   844.31  10971.00   6742.97     0.00   \n",
       "\n",
       "              Resp      Age  Gender  SepsisLabel  \n",
       "Patient_ID                                        \n",
       "8713        2745.0  8798.02     154            9  \n",
       "16348       1638.0  5803.75     125            9  \n",
       "104780       157.0   814.00       0           10  \n",
       "11638       2247.0  7485.11     101            9  \n",
       "117335      1321.0  5368.00     122           10  \n",
       "...            ...      ...     ...          ...  \n",
       "102771       852.5  4680.00      60           10  \n",
       "11132       1743.0  4569.18      86            9  \n",
       "12481        960.5  3409.92      48            0  \n",
       "102721      1484.5  1856.00       0            0  \n",
       "12278       1457.0  6018.25       0           10  \n",
       "\n",
       "[6932 rows x 11 columns]"
      ]
     },
     "execution_count": 17,
     "metadata": {},
     "output_type": "execute_result"
    }
   ],
   "source": [
    "final_df.groupby(\"Patient_ID\", group_keys = False).sum()"
   ]
  },
  {
   "cell_type": "markdown",
   "metadata": {
    "tags": []
   },
   "source": [
    "### Final step in filling the missing values"
   ]
  },
  {
   "cell_type": "code",
   "execution_count": 18,
   "metadata": {
    "tags": []
   },
   "outputs": [
    {
     "name": "stderr",
     "output_type": "stream",
     "text": [
      "/var/tmp/ipykernel_41051/4266186685.py:3: DeprecationWarning: DataFrameGroupBy.apply operated on the grouping columns. This behavior is deprecated, and in a future version of pandas the grouping columns will be excluded from the operation. Either pass `include_groups=False` to exclude the groupings or explicitly select the grouping columns after groupby to silence this warning.\n",
      "  df_filled = final_df.groupby('Patient_ID', group_keys=False).apply(\n"
     ]
    }
   ],
   "source": [
    "final_df.Patient_ID = final_df.Patient_ID.astype(\"int\")\n",
    "\n",
    "df_filled = final_df.groupby('Patient_ID', group_keys=False).apply(\n",
    "    lambda group: group.interpolate().bfill().ffill()\n",
    ").reset_index(drop=False)"
   ]
  },
  {
   "cell_type": "code",
   "execution_count": 19,
   "metadata": {
    "tags": []
   },
   "outputs": [
    {
     "data": {
      "text/html": [
       "<div>\n",
       "<style scoped>\n",
       "    .dataframe tbody tr th:only-of-type {\n",
       "        vertical-align: middle;\n",
       "    }\n",
       "\n",
       "    .dataframe tbody tr th {\n",
       "        vertical-align: top;\n",
       "    }\n",
       "\n",
       "    .dataframe thead th {\n",
       "        text-align: right;\n",
       "    }\n",
       "</style>\n",
       "<table border=\"1\" class=\"dataframe\">\n",
       "  <thead>\n",
       "    <tr style=\"text-align: right;\">\n",
       "      <th></th>\n",
       "      <th>index</th>\n",
       "      <th>Hour</th>\n",
       "      <th>HR</th>\n",
       "      <th>O2Sat</th>\n",
       "      <th>Temp</th>\n",
       "      <th>SBP</th>\n",
       "      <th>MAP</th>\n",
       "      <th>DBP</th>\n",
       "      <th>Resp</th>\n",
       "      <th>Age</th>\n",
       "      <th>Gender</th>\n",
       "      <th>Patient_ID</th>\n",
       "      <th>SepsisLabel</th>\n",
       "    </tr>\n",
       "  </thead>\n",
       "  <tbody>\n",
       "    <tr>\n",
       "      <th>3</th>\n",
       "      <td>0</td>\n",
       "      <td>0</td>\n",
       "      <td>81.0</td>\n",
       "      <td>100.0</td>\n",
       "      <td>38.0000</td>\n",
       "      <td>136.5</td>\n",
       "      <td>90.0</td>\n",
       "      <td>71.0</td>\n",
       "      <td>12.500000</td>\n",
       "      <td>65.79</td>\n",
       "      <td>1</td>\n",
       "      <td>11</td>\n",
       "      <td>0</td>\n",
       "    </tr>\n",
       "    <tr>\n",
       "      <th>6935</th>\n",
       "      <td>1</td>\n",
       "      <td>1</td>\n",
       "      <td>82.0</td>\n",
       "      <td>100.0</td>\n",
       "      <td>38.0000</td>\n",
       "      <td>136.5</td>\n",
       "      <td>90.0</td>\n",
       "      <td>71.0</td>\n",
       "      <td>12.000000</td>\n",
       "      <td>65.79</td>\n",
       "      <td>1</td>\n",
       "      <td>11</td>\n",
       "      <td>0</td>\n",
       "    </tr>\n",
       "    <tr>\n",
       "      <th>13867</th>\n",
       "      <td>2</td>\n",
       "      <td>2</td>\n",
       "      <td>81.0</td>\n",
       "      <td>100.0</td>\n",
       "      <td>38.1100</td>\n",
       "      <td>114.0</td>\n",
       "      <td>87.0</td>\n",
       "      <td>61.0</td>\n",
       "      <td>12.000000</td>\n",
       "      <td>65.79</td>\n",
       "      <td>1</td>\n",
       "      <td>11</td>\n",
       "      <td>0</td>\n",
       "    </tr>\n",
       "    <tr>\n",
       "      <th>20799</th>\n",
       "      <td>3</td>\n",
       "      <td>3</td>\n",
       "      <td>82.0</td>\n",
       "      <td>100.0</td>\n",
       "      <td>38.1250</td>\n",
       "      <td>114.0</td>\n",
       "      <td>79.0</td>\n",
       "      <td>62.0</td>\n",
       "      <td>12.000000</td>\n",
       "      <td>65.79</td>\n",
       "      <td>1</td>\n",
       "      <td>11</td>\n",
       "      <td>0</td>\n",
       "    </tr>\n",
       "    <tr>\n",
       "      <th>27731</th>\n",
       "      <td>4</td>\n",
       "      <td>4</td>\n",
       "      <td>84.0</td>\n",
       "      <td>100.0</td>\n",
       "      <td>38.1400</td>\n",
       "      <td>117.0</td>\n",
       "      <td>79.0</td>\n",
       "      <td>61.0</td>\n",
       "      <td>16.000000</td>\n",
       "      <td>65.79</td>\n",
       "      <td>1</td>\n",
       "      <td>11</td>\n",
       "      <td>0</td>\n",
       "    </tr>\n",
       "    <tr>\n",
       "      <th>34663</th>\n",
       "      <td>5</td>\n",
       "      <td>5</td>\n",
       "      <td>84.0</td>\n",
       "      <td>100.0</td>\n",
       "      <td>38.1550</td>\n",
       "      <td>103.0</td>\n",
       "      <td>73.5</td>\n",
       "      <td>58.0</td>\n",
       "      <td>20.000000</td>\n",
       "      <td>65.79</td>\n",
       "      <td>1</td>\n",
       "      <td>11</td>\n",
       "      <td>0</td>\n",
       "    </tr>\n",
       "    <tr>\n",
       "      <th>41595</th>\n",
       "      <td>6</td>\n",
       "      <td>6</td>\n",
       "      <td>85.0</td>\n",
       "      <td>100.0</td>\n",
       "      <td>38.1700</td>\n",
       "      <td>123.0</td>\n",
       "      <td>72.0</td>\n",
       "      <td>66.0</td>\n",
       "      <td>18.000000</td>\n",
       "      <td>65.79</td>\n",
       "      <td>1</td>\n",
       "      <td>11</td>\n",
       "      <td>0</td>\n",
       "    </tr>\n",
       "    <tr>\n",
       "      <th>48527</th>\n",
       "      <td>7</td>\n",
       "      <td>7</td>\n",
       "      <td>85.0</td>\n",
       "      <td>100.0</td>\n",
       "      <td>37.9875</td>\n",
       "      <td>143.0</td>\n",
       "      <td>96.0</td>\n",
       "      <td>72.0</td>\n",
       "      <td>14.000000</td>\n",
       "      <td>65.79</td>\n",
       "      <td>1</td>\n",
       "      <td>11</td>\n",
       "      <td>0</td>\n",
       "    </tr>\n",
       "    <tr>\n",
       "      <th>55459</th>\n",
       "      <td>8</td>\n",
       "      <td>8</td>\n",
       "      <td>82.0</td>\n",
       "      <td>100.0</td>\n",
       "      <td>37.8050</td>\n",
       "      <td>144.5</td>\n",
       "      <td>94.5</td>\n",
       "      <td>67.5</td>\n",
       "      <td>13.000000</td>\n",
       "      <td>65.79</td>\n",
       "      <td>1</td>\n",
       "      <td>11</td>\n",
       "      <td>0</td>\n",
       "    </tr>\n",
       "    <tr>\n",
       "      <th>62134</th>\n",
       "      <td>9</td>\n",
       "      <td>9</td>\n",
       "      <td>79.0</td>\n",
       "      <td>100.0</td>\n",
       "      <td>37.6225</td>\n",
       "      <td>146.0</td>\n",
       "      <td>93.0</td>\n",
       "      <td>63.0</td>\n",
       "      <td>12.000000</td>\n",
       "      <td>65.79</td>\n",
       "      <td>1</td>\n",
       "      <td>11</td>\n",
       "      <td>0</td>\n",
       "    </tr>\n",
       "    <tr>\n",
       "      <th>68674</th>\n",
       "      <td>10</td>\n",
       "      <td>10</td>\n",
       "      <td>80.0</td>\n",
       "      <td>100.0</td>\n",
       "      <td>37.4400</td>\n",
       "      <td>137.0</td>\n",
       "      <td>91.0</td>\n",
       "      <td>66.0</td>\n",
       "      <td>14.500000</td>\n",
       "      <td>65.79</td>\n",
       "      <td>1</td>\n",
       "      <td>11</td>\n",
       "      <td>0</td>\n",
       "    </tr>\n",
       "    <tr>\n",
       "      <th>75126</th>\n",
       "      <td>11</td>\n",
       "      <td>11</td>\n",
       "      <td>81.0</td>\n",
       "      <td>100.0</td>\n",
       "      <td>37.3725</td>\n",
       "      <td>146.0</td>\n",
       "      <td>97.0</td>\n",
       "      <td>69.0</td>\n",
       "      <td>22.000000</td>\n",
       "      <td>65.79</td>\n",
       "      <td>1</td>\n",
       "      <td>11</td>\n",
       "      <td>0</td>\n",
       "    </tr>\n",
       "    <tr>\n",
       "      <th>81484</th>\n",
       "      <td>12</td>\n",
       "      <td>12</td>\n",
       "      <td>85.0</td>\n",
       "      <td>100.0</td>\n",
       "      <td>37.3050</td>\n",
       "      <td>107.0</td>\n",
       "      <td>74.0</td>\n",
       "      <td>54.0</td>\n",
       "      <td>15.000000</td>\n",
       "      <td>65.79</td>\n",
       "      <td>1</td>\n",
       "      <td>11</td>\n",
       "      <td>0</td>\n",
       "    </tr>\n",
       "    <tr>\n",
       "      <th>87752</th>\n",
       "      <td>13</td>\n",
       "      <td>13</td>\n",
       "      <td>88.0</td>\n",
       "      <td>100.0</td>\n",
       "      <td>37.2375</td>\n",
       "      <td>151.0</td>\n",
       "      <td>95.0</td>\n",
       "      <td>67.0</td>\n",
       "      <td>15.000000</td>\n",
       "      <td>65.79</td>\n",
       "      <td>1</td>\n",
       "      <td>11</td>\n",
       "      <td>0</td>\n",
       "    </tr>\n",
       "    <tr>\n",
       "      <th>93940</th>\n",
       "      <td>14</td>\n",
       "      <td>14</td>\n",
       "      <td>88.0</td>\n",
       "      <td>100.0</td>\n",
       "      <td>37.1700</td>\n",
       "      <td>155.0</td>\n",
       "      <td>97.0</td>\n",
       "      <td>69.0</td>\n",
       "      <td>12.000000</td>\n",
       "      <td>65.79</td>\n",
       "      <td>1</td>\n",
       "      <td>11</td>\n",
       "      <td>0</td>\n",
       "    </tr>\n",
       "    <tr>\n",
       "      <th>100037</th>\n",
       "      <td>15</td>\n",
       "      <td>15</td>\n",
       "      <td>86.0</td>\n",
       "      <td>100.0</td>\n",
       "      <td>37.3350</td>\n",
       "      <td>148.0</td>\n",
       "      <td>95.0</td>\n",
       "      <td>67.0</td>\n",
       "      <td>18.000000</td>\n",
       "      <td>65.79</td>\n",
       "      <td>1</td>\n",
       "      <td>11</td>\n",
       "      <td>0</td>\n",
       "    </tr>\n",
       "    <tr>\n",
       "      <th>106026</th>\n",
       "      <td>16</td>\n",
       "      <td>16</td>\n",
       "      <td>87.0</td>\n",
       "      <td>100.0</td>\n",
       "      <td>37.5000</td>\n",
       "      <td>164.0</td>\n",
       "      <td>102.5</td>\n",
       "      <td>72.0</td>\n",
       "      <td>17.500000</td>\n",
       "      <td>65.79</td>\n",
       "      <td>1</td>\n",
       "      <td>11</td>\n",
       "      <td>0</td>\n",
       "    </tr>\n",
       "    <tr>\n",
       "      <th>111917</th>\n",
       "      <td>17</td>\n",
       "      <td>17</td>\n",
       "      <td>89.0</td>\n",
       "      <td>100.0</td>\n",
       "      <td>37.6650</td>\n",
       "      <td>122.0</td>\n",
       "      <td>78.0</td>\n",
       "      <td>56.0</td>\n",
       "      <td>19.000000</td>\n",
       "      <td>65.79</td>\n",
       "      <td>1</td>\n",
       "      <td>11</td>\n",
       "      <td>0</td>\n",
       "    </tr>\n",
       "    <tr>\n",
       "      <th>117678</th>\n",
       "      <td>18</td>\n",
       "      <td>18</td>\n",
       "      <td>94.0</td>\n",
       "      <td>100.0</td>\n",
       "      <td>37.8300</td>\n",
       "      <td>142.0</td>\n",
       "      <td>87.0</td>\n",
       "      <td>61.0</td>\n",
       "      <td>18.000000</td>\n",
       "      <td>65.79</td>\n",
       "      <td>1</td>\n",
       "      <td>11</td>\n",
       "      <td>0</td>\n",
       "    </tr>\n",
       "    <tr>\n",
       "      <th>123317</th>\n",
       "      <td>19</td>\n",
       "      <td>19</td>\n",
       "      <td>93.0</td>\n",
       "      <td>100.0</td>\n",
       "      <td>37.7625</td>\n",
       "      <td>146.0</td>\n",
       "      <td>89.0</td>\n",
       "      <td>63.0</td>\n",
       "      <td>17.000000</td>\n",
       "      <td>65.79</td>\n",
       "      <td>1</td>\n",
       "      <td>11</td>\n",
       "      <td>0</td>\n",
       "    </tr>\n",
       "    <tr>\n",
       "      <th>128829</th>\n",
       "      <td>20</td>\n",
       "      <td>20</td>\n",
       "      <td>101.0</td>\n",
       "      <td>100.0</td>\n",
       "      <td>37.6950</td>\n",
       "      <td>146.0</td>\n",
       "      <td>91.0</td>\n",
       "      <td>63.0</td>\n",
       "      <td>21.000000</td>\n",
       "      <td>65.79</td>\n",
       "      <td>1</td>\n",
       "      <td>11</td>\n",
       "      <td>0</td>\n",
       "    </tr>\n",
       "    <tr>\n",
       "      <th>134219</th>\n",
       "      <td>21</td>\n",
       "      <td>21</td>\n",
       "      <td>99.0</td>\n",
       "      <td>100.0</td>\n",
       "      <td>37.6275</td>\n",
       "      <td>146.0</td>\n",
       "      <td>85.0</td>\n",
       "      <td>57.0</td>\n",
       "      <td>20.642857</td>\n",
       "      <td>65.79</td>\n",
       "      <td>1</td>\n",
       "      <td>11</td>\n",
       "      <td>0</td>\n",
       "    </tr>\n",
       "    <tr>\n",
       "      <th>139446</th>\n",
       "      <td>22</td>\n",
       "      <td>22</td>\n",
       "      <td>97.0</td>\n",
       "      <td>100.0</td>\n",
       "      <td>37.5600</td>\n",
       "      <td>144.0</td>\n",
       "      <td>85.0</td>\n",
       "      <td>59.0</td>\n",
       "      <td>20.285714</td>\n",
       "      <td>65.79</td>\n",
       "      <td>1</td>\n",
       "      <td>11</td>\n",
       "      <td>0</td>\n",
       "    </tr>\n",
       "    <tr>\n",
       "      <th>144514</th>\n",
       "      <td>23</td>\n",
       "      <td>23</td>\n",
       "      <td>100.0</td>\n",
       "      <td>100.0</td>\n",
       "      <td>37.5875</td>\n",
       "      <td>142.0</td>\n",
       "      <td>85.0</td>\n",
       "      <td>59.0</td>\n",
       "      <td>19.928571</td>\n",
       "      <td>65.79</td>\n",
       "      <td>1</td>\n",
       "      <td>11</td>\n",
       "      <td>0</td>\n",
       "    </tr>\n",
       "    <tr>\n",
       "      <th>149448</th>\n",
       "      <td>24</td>\n",
       "      <td>24</td>\n",
       "      <td>98.0</td>\n",
       "      <td>100.0</td>\n",
       "      <td>37.6150</td>\n",
       "      <td>147.0</td>\n",
       "      <td>86.0</td>\n",
       "      <td>59.0</td>\n",
       "      <td>19.571429</td>\n",
       "      <td>65.79</td>\n",
       "      <td>1</td>\n",
       "      <td>11</td>\n",
       "      <td>1</td>\n",
       "    </tr>\n",
       "    <tr>\n",
       "      <th>154256</th>\n",
       "      <td>25</td>\n",
       "      <td>25</td>\n",
       "      <td>95.0</td>\n",
       "      <td>100.0</td>\n",
       "      <td>37.6425</td>\n",
       "      <td>151.0</td>\n",
       "      <td>87.0</td>\n",
       "      <td>58.0</td>\n",
       "      <td>19.214286</td>\n",
       "      <td>65.79</td>\n",
       "      <td>1</td>\n",
       "      <td>11</td>\n",
       "      <td>1</td>\n",
       "    </tr>\n",
       "    <tr>\n",
       "      <th>158947</th>\n",
       "      <td>26</td>\n",
       "      <td>26</td>\n",
       "      <td>90.0</td>\n",
       "      <td>100.0</td>\n",
       "      <td>37.6700</td>\n",
       "      <td>149.0</td>\n",
       "      <td>88.0</td>\n",
       "      <td>60.0</td>\n",
       "      <td>18.857143</td>\n",
       "      <td>65.79</td>\n",
       "      <td>1</td>\n",
       "      <td>11</td>\n",
       "      <td>1</td>\n",
       "    </tr>\n",
       "    <tr>\n",
       "      <th>163530</th>\n",
       "      <td>27</td>\n",
       "      <td>27</td>\n",
       "      <td>88.0</td>\n",
       "      <td>100.0</td>\n",
       "      <td>37.5450</td>\n",
       "      <td>141.0</td>\n",
       "      <td>83.0</td>\n",
       "      <td>57.0</td>\n",
       "      <td>18.500000</td>\n",
       "      <td>65.79</td>\n",
       "      <td>1</td>\n",
       "      <td>11</td>\n",
       "      <td>1</td>\n",
       "    </tr>\n",
       "    <tr>\n",
       "      <th>167998</th>\n",
       "      <td>28</td>\n",
       "      <td>28</td>\n",
       "      <td>89.0</td>\n",
       "      <td>100.0</td>\n",
       "      <td>37.4200</td>\n",
       "      <td>157.0</td>\n",
       "      <td>91.0</td>\n",
       "      <td>62.0</td>\n",
       "      <td>18.000000</td>\n",
       "      <td>65.79</td>\n",
       "      <td>1</td>\n",
       "      <td>11</td>\n",
       "      <td>1</td>\n",
       "    </tr>\n",
       "    <tr>\n",
       "      <th>172395</th>\n",
       "      <td>29</td>\n",
       "      <td>29</td>\n",
       "      <td>95.0</td>\n",
       "      <td>100.0</td>\n",
       "      <td>37.2950</td>\n",
       "      <td>158.0</td>\n",
       "      <td>102.0</td>\n",
       "      <td>70.0</td>\n",
       "      <td>16.000000</td>\n",
       "      <td>65.79</td>\n",
       "      <td>1</td>\n",
       "      <td>11</td>\n",
       "      <td>1</td>\n",
       "    </tr>\n",
       "    <tr>\n",
       "      <th>176718</th>\n",
       "      <td>30</td>\n",
       "      <td>30</td>\n",
       "      <td>90.0</td>\n",
       "      <td>100.0</td>\n",
       "      <td>37.1700</td>\n",
       "      <td>140.0</td>\n",
       "      <td>85.0</td>\n",
       "      <td>59.0</td>\n",
       "      <td>18.000000</td>\n",
       "      <td>65.79</td>\n",
       "      <td>1</td>\n",
       "      <td>11</td>\n",
       "      <td>1</td>\n",
       "    </tr>\n",
       "    <tr>\n",
       "      <th>180962</th>\n",
       "      <td>31</td>\n",
       "      <td>31</td>\n",
       "      <td>90.0</td>\n",
       "      <td>100.0</td>\n",
       "      <td>37.1700</td>\n",
       "      <td>155.0</td>\n",
       "      <td>93.0</td>\n",
       "      <td>63.0</td>\n",
       "      <td>18.000000</td>\n",
       "      <td>65.79</td>\n",
       "      <td>1</td>\n",
       "      <td>11</td>\n",
       "      <td>1</td>\n",
       "    </tr>\n",
       "    <tr>\n",
       "      <th>185145</th>\n",
       "      <td>32</td>\n",
       "      <td>32</td>\n",
       "      <td>106.0</td>\n",
       "      <td>100.0</td>\n",
       "      <td>37.1700</td>\n",
       "      <td>171.0</td>\n",
       "      <td>102.0</td>\n",
       "      <td>67.0</td>\n",
       "      <td>19.000000</td>\n",
       "      <td>65.79</td>\n",
       "      <td>1</td>\n",
       "      <td>11</td>\n",
       "      <td>1</td>\n",
       "    </tr>\n",
       "    <tr>\n",
       "      <th>189271</th>\n",
       "      <td>33</td>\n",
       "      <td>33</td>\n",
       "      <td>89.0</td>\n",
       "      <td>100.0</td>\n",
       "      <td>37.1700</td>\n",
       "      <td>141.0</td>\n",
       "      <td>85.0</td>\n",
       "      <td>57.0</td>\n",
       "      <td>17.000000</td>\n",
       "      <td>65.79</td>\n",
       "      <td>1</td>\n",
       "      <td>11</td>\n",
       "      <td>1</td>\n",
       "    </tr>\n",
       "  </tbody>\n",
       "</table>\n",
       "</div>"
      ],
      "text/plain": [
       "        index  Hour     HR  O2Sat     Temp    SBP    MAP   DBP       Resp  \\\n",
       "3           0     0   81.0  100.0  38.0000  136.5   90.0  71.0  12.500000   \n",
       "6935        1     1   82.0  100.0  38.0000  136.5   90.0  71.0  12.000000   \n",
       "13867       2     2   81.0  100.0  38.1100  114.0   87.0  61.0  12.000000   \n",
       "20799       3     3   82.0  100.0  38.1250  114.0   79.0  62.0  12.000000   \n",
       "27731       4     4   84.0  100.0  38.1400  117.0   79.0  61.0  16.000000   \n",
       "34663       5     5   84.0  100.0  38.1550  103.0   73.5  58.0  20.000000   \n",
       "41595       6     6   85.0  100.0  38.1700  123.0   72.0  66.0  18.000000   \n",
       "48527       7     7   85.0  100.0  37.9875  143.0   96.0  72.0  14.000000   \n",
       "55459       8     8   82.0  100.0  37.8050  144.5   94.5  67.5  13.000000   \n",
       "62134       9     9   79.0  100.0  37.6225  146.0   93.0  63.0  12.000000   \n",
       "68674      10    10   80.0  100.0  37.4400  137.0   91.0  66.0  14.500000   \n",
       "75126      11    11   81.0  100.0  37.3725  146.0   97.0  69.0  22.000000   \n",
       "81484      12    12   85.0  100.0  37.3050  107.0   74.0  54.0  15.000000   \n",
       "87752      13    13   88.0  100.0  37.2375  151.0   95.0  67.0  15.000000   \n",
       "93940      14    14   88.0  100.0  37.1700  155.0   97.0  69.0  12.000000   \n",
       "100037     15    15   86.0  100.0  37.3350  148.0   95.0  67.0  18.000000   \n",
       "106026     16    16   87.0  100.0  37.5000  164.0  102.5  72.0  17.500000   \n",
       "111917     17    17   89.0  100.0  37.6650  122.0   78.0  56.0  19.000000   \n",
       "117678     18    18   94.0  100.0  37.8300  142.0   87.0  61.0  18.000000   \n",
       "123317     19    19   93.0  100.0  37.7625  146.0   89.0  63.0  17.000000   \n",
       "128829     20    20  101.0  100.0  37.6950  146.0   91.0  63.0  21.000000   \n",
       "134219     21    21   99.0  100.0  37.6275  146.0   85.0  57.0  20.642857   \n",
       "139446     22    22   97.0  100.0  37.5600  144.0   85.0  59.0  20.285714   \n",
       "144514     23    23  100.0  100.0  37.5875  142.0   85.0  59.0  19.928571   \n",
       "149448     24    24   98.0  100.0  37.6150  147.0   86.0  59.0  19.571429   \n",
       "154256     25    25   95.0  100.0  37.6425  151.0   87.0  58.0  19.214286   \n",
       "158947     26    26   90.0  100.0  37.6700  149.0   88.0  60.0  18.857143   \n",
       "163530     27    27   88.0  100.0  37.5450  141.0   83.0  57.0  18.500000   \n",
       "167998     28    28   89.0  100.0  37.4200  157.0   91.0  62.0  18.000000   \n",
       "172395     29    29   95.0  100.0  37.2950  158.0  102.0  70.0  16.000000   \n",
       "176718     30    30   90.0  100.0  37.1700  140.0   85.0  59.0  18.000000   \n",
       "180962     31    31   90.0  100.0  37.1700  155.0   93.0  63.0  18.000000   \n",
       "185145     32    32  106.0  100.0  37.1700  171.0  102.0  67.0  19.000000   \n",
       "189271     33    33   89.0  100.0  37.1700  141.0   85.0  57.0  17.000000   \n",
       "\n",
       "          Age  Gender  Patient_ID  SepsisLabel  \n",
       "3       65.79       1          11            0  \n",
       "6935    65.79       1          11            0  \n",
       "13867   65.79       1          11            0  \n",
       "20799   65.79       1          11            0  \n",
       "27731   65.79       1          11            0  \n",
       "34663   65.79       1          11            0  \n",
       "41595   65.79       1          11            0  \n",
       "48527   65.79       1          11            0  \n",
       "55459   65.79       1          11            0  \n",
       "62134   65.79       1          11            0  \n",
       "68674   65.79       1          11            0  \n",
       "75126   65.79       1          11            0  \n",
       "81484   65.79       1          11            0  \n",
       "87752   65.79       1          11            0  \n",
       "93940   65.79       1          11            0  \n",
       "100037  65.79       1          11            0  \n",
       "106026  65.79       1          11            0  \n",
       "111917  65.79       1          11            0  \n",
       "117678  65.79       1          11            0  \n",
       "123317  65.79       1          11            0  \n",
       "128829  65.79       1          11            0  \n",
       "134219  65.79       1          11            0  \n",
       "139446  65.79       1          11            0  \n",
       "144514  65.79       1          11            0  \n",
       "149448  65.79       1          11            1  \n",
       "154256  65.79       1          11            1  \n",
       "158947  65.79       1          11            1  \n",
       "163530  65.79       1          11            1  \n",
       "167998  65.79       1          11            1  \n",
       "172395  65.79       1          11            1  \n",
       "176718  65.79       1          11            1  \n",
       "180962  65.79       1          11            1  \n",
       "185145  65.79       1          11            1  \n",
       "189271  65.79       1          11            1  "
      ]
     },
     "execution_count": 19,
     "metadata": {},
     "output_type": "execute_result"
    }
   ],
   "source": [
    "df_filled[df_filled.Patient_ID == 11]"
   ]
  },
  {
   "cell_type": "code",
   "execution_count": 20,
   "metadata": {
    "tags": []
   },
   "outputs": [],
   "source": [
    "cleaned_df = df_filled.dropna()"
   ]
  },
  {
   "cell_type": "code",
   "execution_count": 21,
   "metadata": {
    "tags": []
   },
   "outputs": [
    {
     "data": {
      "text/plain": [
       "index          0.0\n",
       "Hour           0.0\n",
       "HR             0.0\n",
       "O2Sat          0.0\n",
       "Temp           0.0\n",
       "SBP            0.0\n",
       "MAP            0.0\n",
       "DBP            0.0\n",
       "Resp           0.0\n",
       "Age            0.0\n",
       "Gender         0.0\n",
       "Patient_ID     0.0\n",
       "SepsisLabel    0.0\n",
       "dtype: float64"
      ]
     },
     "execution_count": 21,
     "metadata": {},
     "output_type": "execute_result"
    }
   ],
   "source": [
    "(cleaned_df.isnull().sum()/len(cleaned_df)).sort_values(ascending=False)"
   ]
  },
  {
   "cell_type": "markdown",
   "metadata": {},
   "source": [
    "## Scaling tha Data"
   ]
  },
  {
   "cell_type": "code",
   "execution_count": 22,
   "metadata": {},
   "outputs": [
    {
     "name": "stderr",
     "output_type": "stream",
     "text": [
      "/var/tmp/ipykernel_41051/2805440539.py:9: SettingWithCopyWarning: \n",
      "A value is trying to be set on a copy of a slice from a DataFrame.\n",
      "Try using .loc[row_indexer,col_indexer] = value instead\n",
      "\n",
      "See the caveats in the documentation: https://pandas.pydata.org/pandas-docs/stable/user_guide/indexing.html#returning-a-view-versus-a-copy\n",
      "  cleaned_df['O2Sat'] = min_max_scaler.fit_transform(cleaned_df[['O2Sat']])\n",
      "/var/tmp/ipykernel_41051/2805440539.py:13: SettingWithCopyWarning: \n",
      "A value is trying to be set on a copy of a slice from a DataFrame.\n",
      "Try using .loc[row_indexer,col_indexer] = value instead\n",
      "\n",
      "See the caveats in the documentation: https://pandas.pydata.org/pandas-docs/stable/user_guide/indexing.html#returning-a-view-versus-a-copy\n",
      "  cleaned_df[columns_to_standardize] = standard_scaler.fit_transform(cleaned_df[columns_to_standardize])\n"
     ]
    }
   ],
   "source": [
    "# List of columns to plot\n",
    "columns_to_scale = ['HR', 'O2Sat', 'Temp', 'SBP', 'MAP', 'DBP', 'Resp']\n",
    "\n",
    "# Initialize the scalers\n",
    "min_max_scaler = MinMaxScaler()\n",
    "standard_scaler = StandardScaler()\n",
    "\n",
    "# Apply MinMaxScaler to the O2Sat column\n",
    "cleaned_df['O2Sat'] = min_max_scaler.fit_transform(cleaned_df[['O2Sat']])\n",
    "\n",
    "# Apply StandardScaler to the rest of the columns\n",
    "columns_to_standardize = [col for col in columns_to_scale if col != 'O2Sat']\n",
    "cleaned_df[columns_to_standardize] = standard_scaler.fit_transform(cleaned_df[columns_to_standardize])"
   ]
  },
  {
   "cell_type": "code",
   "execution_count": 48,
   "metadata": {
    "tags": []
   },
   "outputs": [],
   "source": [
    "# Prepare data for LSTM\n",
    "features = ['HR', 'O2Sat', 'Temp', 'SBP', 'MAP', 'DBP', 'Resp', 'Age', 'Gender', \"Patient_ID\"]\n",
    "X = cleaned_df[features]\n",
    "y = cleaned_df['SepsisLabel']"
   ]
  },
  {
   "cell_type": "code",
   "execution_count": 49,
   "metadata": {
    "tags": []
   },
   "outputs": [
    {
     "data": {
      "text/plain": [
       "SepsisLabel\n",
       "0    252279\n",
       "1     22817\n",
       "Name: count, dtype: int64"
      ]
     },
     "execution_count": 49,
     "metadata": {},
     "output_type": "execute_result"
    }
   ],
   "source": [
    "y.value_counts()"
   ]
  },
  {
   "cell_type": "markdown",
   "metadata": {},
   "source": [
    "## Creating a 6-Hour sequence for each patient"
   ]
  },
  {
   "cell_type": "markdown",
   "metadata": {},
   "source": [
    "Generates arrays of patient information based on a 6-hour time frame. \n",
    "\n",
    "It also prevents patient observations from overlapping time periods. "
   ]
  },
  {
   "cell_type": "code",
   "execution_count": 25,
   "metadata": {
    "tags": []
   },
   "outputs": [],
   "source": [
    "def create_sequences(X, y, time_steps=6):\n",
    "    X_seq, y_seq = [], []\n",
    "    for i in range(len(X) - time_steps):\n",
    "        X_seq.append(X.iloc[i:(i + time_steps)].values)\n",
    "        y_seq.append(y.iloc[i + time_steps])\n",
    "    return X_seq, y_seq"
   ]
  },
  {
   "cell_type": "code",
   "execution_count": 26,
   "metadata": {
    "tags": []
   },
   "outputs": [],
   "source": [
    "X_sequences = []\n",
    "y_sequences = []\n",
    "\n",
    "for patient in cleaned_df.sort_values([\"Patient_ID\", \"Hour\"]).groupby(\"Patient_ID\"):\n",
    "\n",
    "    features = ['HR', 'O2Sat', 'Temp', 'SBP', 'MAP', 'DBP', 'Resp', 'Age', 'Gender']\n",
    "    X = patient[1][features]\n",
    "    y = patient[1]['SepsisLabel']\n",
    "    X_s, y_s = create_sequences(X,y)\n",
    "    \n",
    "    X_sequences = X_sequences + X_s\n",
    "    y_sequences = y_sequences + y_s\n"
   ]
  },
  {
   "cell_type": "code",
   "execution_count": 27,
   "metadata": {
    "tags": []
   },
   "outputs": [],
   "source": [
    "X_sequences, y_sequences = np.array(X_sequences), np.array(y_sequences)"
   ]
  },
  {
   "cell_type": "code",
   "execution_count": 28,
   "metadata": {
    "tags": []
   },
   "outputs": [
    {
     "data": {
      "text/plain": [
       "0.08390237838733737"
      ]
     },
     "execution_count": 28,
     "metadata": {},
     "output_type": "execute_result"
    }
   ],
   "source": [
    "y_sequences.mean()"
   ]
  },
  {
   "cell_type": "markdown",
   "metadata": {},
   "source": [
    "## Splitting the Data"
   ]
  },
  {
   "cell_type": "code",
   "execution_count": 29,
   "metadata": {
    "tags": []
   },
   "outputs": [],
   "source": [
    "split_point = int(0.8 * len(y_sequences))"
   ]
  },
  {
   "cell_type": "code",
   "execution_count": 30,
   "metadata": {},
   "outputs": [],
   "source": [
    "X_train = X_sequences[:split_point,:,:]\n",
    "X_test = X_sequences[split_point:,:,:]\n",
    "y_train = y_sequences[:split_point]\n",
    "y_test = y_sequences[split_point:]"
   ]
  },
  {
   "cell_type": "code",
   "execution_count": 31,
   "metadata": {
    "tags": []
   },
   "outputs": [
    {
     "data": {
      "text/plain": [
       "(193072, 6, 9)"
      ]
     },
     "execution_count": 31,
     "metadata": {},
     "output_type": "execute_result"
    }
   ],
   "source": [
    "X_train.shape"
   ]
  },
  {
   "cell_type": "code",
   "execution_count": 32,
   "metadata": {
    "tags": []
   },
   "outputs": [
    {
     "data": {
      "text/plain": [
       "(48268, 6, 9)"
      ]
     },
     "execution_count": 32,
     "metadata": {},
     "output_type": "execute_result"
    }
   ],
   "source": [
    "X_test.shape"
   ]
  },
  {
   "cell_type": "markdown",
   "metadata": {},
   "source": [
    "## More Balanced Data"
   ]
  },
  {
   "cell_type": "markdown",
   "metadata": {},
   "source": [
    "We needed more balanced Dataset, so we reduced the data according to zero_indexes and one_indexes."
   ]
  },
  {
   "cell_type": "code",
   "execution_count": 33,
   "metadata": {
    "tags": []
   },
   "outputs": [],
   "source": [
    "zero_indexes = np.where(y_train == 0)[0]\n",
    "one_indexes = np.where(y_train == 1)[0]\n",
    "\n",
    "zero_sample_indexes = np.random.choice(zero_indexes, size = 16000, replace = False)\n",
    "balanced_indexes = np.random.choice(np.concatenate([zero_sample_indexes, one_indexes]), size = 32000, replace=False)"
   ]
  },
  {
   "cell_type": "code",
   "execution_count": 34,
   "metadata": {
    "tags": []
   },
   "outputs": [],
   "source": [
    "X_train_balanced = X_train[balanced_indexes,:,:] \n",
    "y_train_balanced = y_train[balanced_indexes]"
   ]
  },
  {
   "cell_type": "code",
   "execution_count": 35,
   "metadata": {
    "tags": []
   },
   "outputs": [
    {
     "data": {
      "text/plain": [
       "array([ 74019,  13445, 132935, ..., 107899,  72947,   9481])"
      ]
     },
     "execution_count": 35,
     "metadata": {},
     "output_type": "execute_result"
    }
   ],
   "source": [
    "balanced_indexes"
   ]
  },
  {
   "cell_type": "markdown",
   "metadata": {},
   "source": [
    "## Building a Model - LSTM"
   ]
  },
  {
   "cell_type": "code",
   "execution_count": 36,
   "metadata": {},
   "outputs": [
    {
     "name": "stderr",
     "output_type": "stream",
     "text": [
      "/opt/conda/lib/python3.10/site-packages/keras/src/layers/rnn/rnn.py:204: UserWarning: Do not pass an `input_shape`/`input_dim` argument to a layer. When using Sequential models, prefer using an `Input(shape)` object as the first layer in the model instead.\n",
      "  super().__init__(**kwargs)\n"
     ]
    }
   ],
   "source": [
    "# Build LSTM model\n",
    "model = Sequential([\n",
    "    LSTM(64, input_shape=(X_train_balanced.shape[1], X_train_balanced.shape[2]), return_sequences=True),\n",
    "    LSTM(32),\n",
    "    Dense(16, activation='relu'),\n",
    "    Dense(1, activation='sigmoid')\n",
    "])"
   ]
  },
  {
   "cell_type": "code",
   "execution_count": 37,
   "metadata": {},
   "outputs": [],
   "source": [
    "# Compile model\n",
    "model.compile(optimizer=Adam(learning_rate=0.001), loss='binary_crossentropy', metrics=['accuracy', 'recall'])\n",
    "\n",
    "# Early stopping\n",
    "early_stopping = EarlyStopping(monitor='val_loss', patience=5, restore_best_weights=True)"
   ]
  },
  {
   "cell_type": "code",
   "execution_count": 38,
   "metadata": {},
   "outputs": [
    {
     "name": "stdout",
     "output_type": "stream",
     "text": [
      "Epoch 1/200\n",
      "\u001b[1m800/800\u001b[0m \u001b[32m━━━━━━━━━━━━━━━━━━━━\u001b[0m\u001b[37m\u001b[0m \u001b[1m7s\u001b[0m 5ms/step - accuracy: 0.5406 - loss: 0.6864 - recall: 0.5195 - val_accuracy: 0.5827 - val_loss: 0.6749 - val_recall: 0.7319\n",
      "Epoch 2/200\n",
      "\u001b[1m800/800\u001b[0m \u001b[32m━━━━━━━━━━━━━━━━━━━━\u001b[0m\u001b[37m\u001b[0m \u001b[1m4s\u001b[0m 4ms/step - accuracy: 0.5836 - loss: 0.6716 - recall: 0.5329 - val_accuracy: 0.5838 - val_loss: 0.6712 - val_recall: 0.7870\n",
      "Epoch 3/200\n",
      "\u001b[1m800/800\u001b[0m \u001b[32m━━━━━━━━━━━━━━━━━━━━\u001b[0m\u001b[37m\u001b[0m \u001b[1m4s\u001b[0m 4ms/step - accuracy: 0.5890 - loss: 0.6668 - recall: 0.5721 - val_accuracy: 0.5894 - val_loss: 0.6662 - val_recall: 0.7407\n",
      "Epoch 4/200\n",
      "\u001b[1m800/800\u001b[0m \u001b[32m━━━━━━━━━━━━━━━━━━━━\u001b[0m\u001b[37m\u001b[0m \u001b[1m4s\u001b[0m 5ms/step - accuracy: 0.5971 - loss: 0.6610 - recall: 0.6042 - val_accuracy: 0.5850 - val_loss: 0.6652 - val_recall: 0.4711\n",
      "Epoch 5/200\n",
      "\u001b[1m800/800\u001b[0m \u001b[32m━━━━━━━━━━━━━━━━━━━━\u001b[0m\u001b[37m\u001b[0m \u001b[1m4s\u001b[0m 4ms/step - accuracy: 0.6065 - loss: 0.6573 - recall: 0.5919 - val_accuracy: 0.5906 - val_loss: 0.6653 - val_recall: 0.4693\n",
      "Epoch 6/200\n",
      "\u001b[1m800/800\u001b[0m \u001b[32m━━━━━━━━━━━━━━━━━━━━\u001b[0m\u001b[37m\u001b[0m \u001b[1m4s\u001b[0m 5ms/step - accuracy: 0.6031 - loss: 0.6589 - recall: 0.5782 - val_accuracy: 0.5927 - val_loss: 0.6647 - val_recall: 0.4777\n",
      "Epoch 7/200\n",
      "\u001b[1m800/800\u001b[0m \u001b[32m━━━━━━━━━━━━━━━━━━━━\u001b[0m\u001b[37m\u001b[0m \u001b[1m4s\u001b[0m 5ms/step - accuracy: 0.6199 - loss: 0.6502 - recall: 0.6033 - val_accuracy: 0.5934 - val_loss: 0.6637 - val_recall: 0.5205\n",
      "Epoch 8/200\n",
      "\u001b[1m800/800\u001b[0m \u001b[32m━━━━━━━━━━━━━━━━━━━━\u001b[0m\u001b[37m\u001b[0m \u001b[1m4s\u001b[0m 5ms/step - accuracy: 0.6139 - loss: 0.6506 - recall: 0.5986 - val_accuracy: 0.6031 - val_loss: 0.6605 - val_recall: 0.6395\n",
      "Epoch 9/200\n",
      "\u001b[1m800/800\u001b[0m \u001b[32m━━━━━━━━━━━━━━━━━━━━\u001b[0m\u001b[37m\u001b[0m \u001b[1m4s\u001b[0m 4ms/step - accuracy: 0.6172 - loss: 0.6478 - recall: 0.6109 - val_accuracy: 0.6050 - val_loss: 0.6590 - val_recall: 0.6386\n",
      "Epoch 10/200\n",
      "\u001b[1m800/800\u001b[0m \u001b[32m━━━━━━━━━━━━━━━━━━━━\u001b[0m\u001b[37m\u001b[0m \u001b[1m4s\u001b[0m 4ms/step - accuracy: 0.6193 - loss: 0.6474 - recall: 0.6065 - val_accuracy: 0.6083 - val_loss: 0.6579 - val_recall: 0.5620\n",
      "Epoch 11/200\n",
      "\u001b[1m800/800\u001b[0m \u001b[32m━━━━━━━━━━━━━━━━━━━━\u001b[0m\u001b[37m\u001b[0m \u001b[1m4s\u001b[0m 4ms/step - accuracy: 0.6199 - loss: 0.6416 - recall: 0.5849 - val_accuracy: 0.6075 - val_loss: 0.6569 - val_recall: 0.6093\n",
      "Epoch 12/200\n",
      "\u001b[1m800/800\u001b[0m \u001b[32m━━━━━━━━━━━━━━━━━━━━\u001b[0m\u001b[37m\u001b[0m \u001b[1m4s\u001b[0m 4ms/step - accuracy: 0.6196 - loss: 0.6463 - recall: 0.5931 - val_accuracy: 0.6005 - val_loss: 0.6602 - val_recall: 0.4491\n",
      "Epoch 13/200\n",
      "\u001b[1m800/800\u001b[0m \u001b[32m━━━━━━━━━━━━━━━━━━━━\u001b[0m\u001b[37m\u001b[0m \u001b[1m4s\u001b[0m 4ms/step - accuracy: 0.6241 - loss: 0.6411 - recall: 0.5960 - val_accuracy: 0.6028 - val_loss: 0.6577 - val_recall: 0.5801\n",
      "Epoch 14/200\n",
      "\u001b[1m800/800\u001b[0m \u001b[32m━━━━━━━━━━━━━━━━━━━━\u001b[0m\u001b[37m\u001b[0m \u001b[1m4s\u001b[0m 4ms/step - accuracy: 0.6285 - loss: 0.6420 - recall: 0.6142 - val_accuracy: 0.6108 - val_loss: 0.6544 - val_recall: 0.6461\n",
      "Epoch 15/200\n",
      "\u001b[1m800/800\u001b[0m \u001b[32m━━━━━━━━━━━━━━━━━━━━\u001b[0m\u001b[37m\u001b[0m \u001b[1m4s\u001b[0m 5ms/step - accuracy: 0.6268 - loss: 0.6390 - recall: 0.5953 - val_accuracy: 0.6044 - val_loss: 0.6571 - val_recall: 0.4840\n",
      "Epoch 16/200\n",
      "\u001b[1m800/800\u001b[0m \u001b[32m━━━━━━━━━━━━━━━━━━━━\u001b[0m\u001b[37m\u001b[0m \u001b[1m4s\u001b[0m 4ms/step - accuracy: 0.6278 - loss: 0.6393 - recall: 0.6055 - val_accuracy: 0.6109 - val_loss: 0.6559 - val_recall: 0.6738\n",
      "Epoch 17/200\n",
      "\u001b[1m800/800\u001b[0m \u001b[32m━━━━━━━━━━━━━━━━━━━━\u001b[0m\u001b[37m\u001b[0m \u001b[1m4s\u001b[0m 4ms/step - accuracy: 0.6237 - loss: 0.6386 - recall: 0.6005 - val_accuracy: 0.6095 - val_loss: 0.6527 - val_recall: 0.5991\n",
      "Epoch 18/200\n",
      "\u001b[1m800/800\u001b[0m \u001b[32m━━━━━━━━━━━━━━━━━━━━\u001b[0m\u001b[37m\u001b[0m \u001b[1m4s\u001b[0m 5ms/step - accuracy: 0.6328 - loss: 0.6320 - recall: 0.6138 - val_accuracy: 0.6048 - val_loss: 0.6572 - val_recall: 0.4657\n",
      "Epoch 19/200\n",
      "\u001b[1m800/800\u001b[0m \u001b[32m━━━━━━━━━━━━━━━━━━━━\u001b[0m\u001b[37m\u001b[0m \u001b[1m4s\u001b[0m 4ms/step - accuracy: 0.6287 - loss: 0.6337 - recall: 0.5923 - val_accuracy: 0.6089 - val_loss: 0.6530 - val_recall: 0.6136\n",
      "Epoch 20/200\n",
      "\u001b[1m800/800\u001b[0m \u001b[32m━━━━━━━━━━━━━━━━━━━━\u001b[0m\u001b[37m\u001b[0m \u001b[1m4s\u001b[0m 4ms/step - accuracy: 0.6278 - loss: 0.6349 - recall: 0.5871 - val_accuracy: 0.6128 - val_loss: 0.6558 - val_recall: 0.5633\n",
      "Epoch 21/200\n",
      "\u001b[1m800/800\u001b[0m \u001b[32m━━━━━━━━━━━━━━━━━━━━\u001b[0m\u001b[37m\u001b[0m \u001b[1m4s\u001b[0m 4ms/step - accuracy: 0.6370 - loss: 0.6308 - recall: 0.6039 - val_accuracy: 0.6033 - val_loss: 0.6595 - val_recall: 0.4645\n",
      "Epoch 22/200\n",
      "\u001b[1m800/800\u001b[0m \u001b[32m━━━━━━━━━━━━━━━━━━━━\u001b[0m\u001b[37m\u001b[0m \u001b[1m4s\u001b[0m 5ms/step - accuracy: 0.6315 - loss: 0.6306 - recall: 0.5834 - val_accuracy: 0.6123 - val_loss: 0.6531 - val_recall: 0.5822\n"
     ]
    }
   ],
   "source": [
    "# Train model\n",
    "history = model.fit(\n",
    "    X_train_balanced, y_train_balanced,\n",
    "    validation_split=0.2,\n",
    "    epochs=200,\n",
    "    batch_size=32,\n",
    "    callbacks=[early_stopping],\n",
    "    verbose=1\n",
    ")"
   ]
  },
  {
   "cell_type": "code",
   "execution_count": 39,
   "metadata": {},
   "outputs": [
    {
     "name": "stdout",
     "output_type": "stream",
     "text": [
      "\u001b[1m1509/1509\u001b[0m \u001b[32m━━━━━━━━━━━━━━━━━━━━\u001b[0m\u001b[37m\u001b[0m \u001b[1m4s\u001b[0m 2ms/step - accuracy: 0.6464 - loss: 0.6593 - recall: 0.6197\n"
     ]
    },
    {
     "ename": "ValueError",
     "evalue": "too many values to unpack (expected 2)",
     "output_type": "error",
     "traceback": [
      "\u001b[0;31m---------------------------------------------------------------------------\u001b[0m",
      "\u001b[0;31mValueError\u001b[0m                                Traceback (most recent call last)",
      "Cell \u001b[0;32mIn[39], line 2\u001b[0m\n\u001b[1;32m      1\u001b[0m \u001b[38;5;66;03m# Evaluate model\u001b[39;00m\n\u001b[0;32m----> 2\u001b[0m test_loss, test_accuracy \u001b[38;5;241m=\u001b[39m model\u001b[38;5;241m.\u001b[39mevaluate(X_test, y_test)\n\u001b[1;32m      3\u001b[0m \u001b[38;5;28mprint\u001b[39m(\u001b[38;5;124mf\u001b[39m\u001b[38;5;124m\"\u001b[39m\u001b[38;5;124mTest accuracy: \u001b[39m\u001b[38;5;132;01m{\u001b[39;00mtest_accuracy\u001b[38;5;132;01m:\u001b[39;00m\u001b[38;5;124m.4f\u001b[39m\u001b[38;5;132;01m}\u001b[39;00m\u001b[38;5;124m\"\u001b[39m)\n",
      "\u001b[0;31mValueError\u001b[0m: too many values to unpack (expected 2)"
     ]
    }
   ],
   "source": [
    "# Evaluate model\n",
    "test_loss, test_accuracy = model.evaluate(X_test, y_test)\n",
    "print(f\"Test accuracy: {test_accuracy:.4f}\")\n"
   ]
  },
  {
   "cell_type": "code",
   "execution_count": 40,
   "metadata": {
    "tags": []
   },
   "outputs": [
    {
     "name": "stdout",
     "output_type": "stream",
     "text": [
      "\u001b[1m1509/1509\u001b[0m \u001b[32m━━━━━━━━━━━━━━━━━━━━\u001b[0m\u001b[37m\u001b[0m \u001b[1m4s\u001b[0m 2ms/step\n",
      "              precision    recall  f1-score   support\n",
      "\n",
      "           0       0.95      0.66      0.78     44599\n",
      "           1       0.13      0.60      0.21      3669\n",
      "\n",
      "    accuracy                           0.65     48268\n",
      "   macro avg       0.54      0.63      0.49     48268\n",
      "weighted avg       0.89      0.65      0.73     48268\n",
      "\n",
      "[[29223 15376]\n",
      " [ 1472  2197]]\n"
     ]
    }
   ],
   "source": [
    "# Make predictions\n",
    "y_pred = model.predict(X_test)\n",
    "y_pred_classes = (y_pred > 0.5).astype(int)\n",
    "\n",
    "# Calculate additional metrics\n",
    "print(classification_report(y_test, y_pred_classes))\n",
    "print(confusion_matrix(y_test, y_pred_classes))"
   ]
  },
  {
   "cell_type": "code",
   "execution_count": 41,
   "metadata": {
    "tags": []
   },
   "outputs": [
    {
     "data": {
      "image/png": "[encoded data removed]",
      "text/plain": [
       "<Figure size 640x480 with 2 Axes>"
      ]
     },
     "metadata": {},
     "output_type": "display_data"
    }
   ],
   "source": [
    "cm = confusion_matrix(y_test, y_pred_classes)\n",
    "sns.heatmap(cm, annot=True, fmt='d', xticklabels=['Positive', 'Negative'], \n",
    "            yticklabels=['False', 'True'])\n",
    "plt.xlabel('Predicted')\n",
    "plt.ylabel('Actual')\n",
    "plt.title('Confusion Matrix')\n",
    "plt.show()"
   ]
  },
  {
   "cell_type": "code",
   "execution_count": 42,
   "metadata": {
    "tags": []
   },
   "outputs": [
    {
     "name": "stdout",
     "output_type": "stream",
     "text": [
      "Accuracy: 0.65\n",
      "Precision: 0.13\n",
      "Recall: 0.60\n"
     ]
    }
   ],
   "source": [
    "from sklearn.metrics import accuracy_score, precision_score, recall_score\n",
    "\n",
    "accuracy = accuracy_score(y_test, y_pred_classes)\n",
    "precision = precision_score(y_test, y_pred_classes)\n",
    "recall = recall_score(y_test, y_pred_classes)\n",
    "\n",
    "print(f'Accuracy: {accuracy:.2f}')\n",
    "print(f'Precision: {precision:.2f}')\n",
    "print(f'Recall: {recall:.2f}')"
   ]
  },
  {
   "cell_type": "code",
   "execution_count": 43,
   "metadata": {
    "tags": []
   },
   "outputs": [
    {
     "data": {
      "image/png": "[encoded data removed]",
      "text/plain": [
       "<Figure size 640x480 with 1 Axes>"
      ]
     },
     "metadata": {},
     "output_type": "display_data"
    },
    {
     "data": {
      "image/png": "[encoded data removed]",
      "text/plain": [
       "<Figure size 640x480 with 1 Axes>"
      ]
     },
     "metadata": {},
     "output_type": "display_data"
    }
   ],
   "source": [
    "import matplotlib.pyplot as plt\n",
    "\n",
    "plt.plot(history.history['loss'], label='Training Loss')\n",
    "plt.plot(history.history['val_loss'], label='Validation Loss')\n",
    "plt.xlabel('Epochs')\n",
    "plt.ylabel('Loss')\n",
    "plt.legend()\n",
    "plt.show()\n",
    "\n",
    "plt.plot(history.history['accuracy'], label='Training Accuracy')\n",
    "plt.plot(history.history['val_accuracy'], label='Validation Accuracy')\n",
    "plt.xlabel('Epochs')\n",
    "plt.ylabel('Accuracy')\n",
    "plt.legend()\n",
    "plt.show()"
   ]
  },
  {
   "cell_type": "code",
   "execution_count": null,
   "metadata": {
    "tags": []
   },
   "outputs": [],
   "source": [
    "import os\n",
    "# Create a 'models' directory if it doesn't exist\n",
    "os.makedirs('models', exist_ok=True)\n",
    "# Save the model\n",
    "save_model(model, 'models/sepsis_model.h5')"
   ]
  },
  {
   "cell_type": "markdown",
   "metadata": {},
   "source": [
    "## Trying to improve the LSTM"
   ]
  },
  {
   "cell_type": "code",
   "execution_count": 54,
   "metadata": {
    "tags": []
   },
   "outputs": [
    {
     "data": {
      "text/plain": [
       "\"from keras.layers import LSTM, Dropout, Dense, BatchNormalization\\nfrom keras.regularizers import l2\\n\\nmodel2 = Sequential([\\n    LSTM(64, input_shape=(X_train_seq.shape[1], X_train_seq.shape[2]), return_sequences=True, \\n         kernel_regularizer=l2(0.001)),\\n    Dropout(0.3),\\n    LSTM(32, kernel_regularizer=l2(0.001)),\\n    Dropout(0.3),\\n    BatchNormalization(),\\n    Dense(16, activation='relu', kernel_regularizer=l2(0.001)),\\n    Dense(1, activation='sigmoid')\\n])\""
      ]
     },
     "execution_count": 54,
     "metadata": {},
     "output_type": "execute_result"
    }
   ],
   "source": [
    "\"\"\"from keras.layers import LSTM, Dropout, Dense, BatchNormalization\n",
    "from keras.regularizers import l2\n",
    "\n",
    "model2 = Sequential([\n",
    "    LSTM(64, input_shape=(X_train_seq.shape[1], X_train_seq.shape[2]), return_sequences=True, \n",
    "         kernel_regularizer=l2(0.001)),\n",
    "    Dropout(0.3),\n",
    "    LSTM(32, kernel_regularizer=l2(0.001)),\n",
    "    Dropout(0.3),\n",
    "    BatchNormalization(),\n",
    "    Dense(16, activation='relu', kernel_regularizer=l2(0.001)),\n",
    "    Dense(1, activation='sigmoid')\n",
    "])\"\"\""
   ]
  },
  {
   "cell_type": "markdown",
   "metadata": {},
   "source": [
    "## Federico's suggestion to improve the model"
   ]
  },
  {
   "cell_type": "code",
   "execution_count": null,
   "metadata": {},
   "outputs": [],
   "source": [
    "\"\"\"def init_model(X_train, y_train):\n",
    "    # adam = optimizers.Adam(learning_rate=0.02)\n",
    "    initial_learning_rate = 0.001 # Default Adam\n",
    "\n",
    "    # lr_schedule = ExponentialDecay(\n",
    "    # initial_learning_rate,\n",
    "    # decay_steps = 10000,    # every 500 iterations\n",
    "    # decay_rate = 0.9)      # we multiply the learning rate by the decay_rate\n",
    "\n",
    "    # adam = optimizers.Adam(learning_rate=lr_schedule)\n",
    "    adam = optimizers.Adam()\n",
    "    reg_l2 = regularizers.L2(0.05)\n",
    "    output_length = y_train.shape[-1]\n",
    "    normalizer = Normalization()\n",
    "    normalizer.adapt(X_train)\n",
    "    \n",
    "    \n",
    "    \n",
    "    model = models.Sequential()\n",
    "    model.add(normalizer)\n",
    "    model.add(layers.LSTM(400,\n",
    "                          activation='tanh',\n",
    "                          return_sequences = True\n",
    "                          ))\n",
    "    model.add(layers.LSTM(100,\n",
    "                          activation='tanh',\n",
    "                          return_sequences = True\n",
    "                          ))\n",
    "    # model.add(layers.LSTM(128,\n",
    "    #                       activation='tanh',\n",
    "    #                       return_sequences = True, #kernel_regularizer = reg_l2\n",
    "    #                       ))\n",
    "    # model.add(layers.LSTM(64,\n",
    "    #                       activation='tanh',\n",
    "    #                       return_sequences = True, #kernel_regularizer = reg_l2\n",
    "    #                       ))\n",
    "    model.add(layers.LSTM(50,\n",
    "                          activation='tanh',\n",
    "                          return_sequences = False, #kernel_regularizer = reg_l2\n",
    "                          ))\n",
    "    # model.add(layers.Dropout(0.3))\n",
    "    model.add(layers.Dense(100, activation='relu'\n",
    "                           ))\n",
    "    # model.add(layers.Dropout(0.3))\n",
    "    model.add(layers.Dense(50, activation='relu'\n",
    "                           ))\n",
    "    model.add(layers.Dense(output_length, activation='linear'))\n",
    "    model.compile(loss= 'mse', optimizer=adam, metrics=[\"mse\",'mae']) , # 'mape',smape\n",
    "    return model\n",
    "\n",
    "def fit_model(model: tf.keras.Model, verbose=1) -> tuple[tf.keras.Model, dict]:\n",
    "    es = EarlyStopping(monitor = \"val_loss\",\n",
    "                      patience = 150,\n",
    "                      mode = \"min\",\n",
    "                      restore_best_weights = True)\n",
    "    #reduce_lr = ReduceLROnPlateau(monitor='val_loss', factor=0.2,\n",
    "                          #   patience=30, min_lr=0.000001)\n",
    "    history = model.fit(X_train, y_train,\n",
    "                        validation_split = 0.2,\n",
    "                        shuffle = False,\n",
    "                        batch_size = 64,\n",
    "                        epochs = 1000,\n",
    "                        callbacks = [es],\n",
    "                        verbose = verbose)\n",
    "    return model2, history\"\"\""
   ]
  },
  {
   "cell_type": "markdown",
   "metadata": {},
   "source": [
    "# Random Forest Classifier"
   ]
  },
  {
   "cell_type": "markdown",
   "metadata": {},
   "source": [
    "## Test splitting"
   ]
  },
  {
   "cell_type": "code",
   "execution_count": 50,
   "metadata": {
    "tags": []
   },
   "outputs": [],
   "source": [
    "# train test split for the imputed output\n",
    "X_train1, X_test1, y_train1, y_test1 = train_test_split(X, y, test_size=0.2)"
   ]
  },
  {
   "cell_type": "markdown",
   "metadata": {},
   "source": [
    "## Building the Model"
   ]
  },
  {
   "cell_type": "code",
   "execution_count": 51,
   "metadata": {
    "tags": []
   },
   "outputs": [],
   "source": [
    "# random forest classifier\n",
    "# random forest classifier was tested on different hyper parameters and it gave the best results with number of estimators as 300\n",
    "#model = RandomForestClassifier(n_estimators=100, random_state=0)\n",
    "#model = RandomForestClassifier(n_estimators=200, random_state=0)\n",
    "model2 = RandomForestClassifier(n_estimators=300, random_state=0)\n",
    "model2.fit(X_train1, y_train1)\n",
    "rcf_predictions = model2.predict(X_test1)"
   ]
  },
  {
   "cell_type": "code",
   "execution_count": 52,
   "metadata": {
    "tags": []
   },
   "outputs": [],
   "source": [
    "def evaluate_model(y_true,y_pred):\n",
    "    accuracy = accuracy_score(y_true, y_pred)\n",
    "    print(\"Accuracy:\", accuracy)\n",
    "    precision = precision_score(y_true, y_pred)\n",
    "    print(\"Precision:\", precision)\n",
    "    recall = recall_score(y_true, y_pred)\n",
    "    print(\"Recall:\", recall)\n",
    "    f1 = f1_score(y_true, y_pred)\n",
    "    print(\"F1 Score:\", f1)\n",
    "    auc = roc_auc_score(y_true, y_pred)\n",
    "    print(\"AUC-ROC:\", auc)\n",
    "    mae = mean_absolute_error(y_true, y_pred)\n",
    "    print(\"Mean Absolute Error:\", mae)\n",
    "    rmse = np.sqrt(mean_squared_error(y_true, y_pred))\n",
    "    print(\"Root Mean Squared Error:\", rmse)\n",
    "    cm = confusion_matrix(y_true, y_pred)\n",
    "    sns.heatmap(cm, annot=True, fmt='d')\n",
    "    plt.show()"
   ]
  },
  {
   "cell_type": "code",
   "execution_count": 53,
   "metadata": {
    "tags": []
   },
   "outputs": [
    {
     "name": "stdout",
     "output_type": "stream",
     "text": [
      "Accuracy: 0.9308615049073065\n",
      "Precision: 0.9409395973154362\n",
      "Recall: 0.15713965478592243\n",
      "F1 Score: 0.26930464848252017\n",
      "AUC-ROC: 0.5781346922043697\n",
      "Mean Absolute Error: 0.06913849509269357\n",
      "Root Mean Squared Error: 0.2629419994840945\n"
     ]
    },
    {
     "data": {
      "image/png": "[encoded data removed]",
      "text/plain": [
       "<Figure size 640x480 with 2 Axes>"
      ]
     },
     "metadata": {},
     "output_type": "display_data"
    }
   ],
   "source": [
    "evaluate_model(y_test1, rcf_predictions)"
   ]
  },
  {
   "cell_type": "code",
   "execution_count": null,
   "metadata": {},
   "outputs": [],
   "source": []
  }
 ],
 "metadata": {
  "environment": {
   "kernel": "conda-base-py",
   "name": "workbench-notebooks.m123",
   "type": "gcloud",
   "uri": "us-docker.pkg.dev/deeplearning-platform-release/gcr.io/workbench-notebooks:m123"
  },
  "kernelspec": {
   "display_name": "Python 3 (ipykernel) (Local)",
   "language": "python",
   "name": "conda-base-py"
  },
  "language_info": {
   "codemirror_mode": {
    "name": "ipython",
    "version": 3
   },
   "file_extension": ".py",
   "mimetype": "text/x-python",
   "name": "python",
   "nbconvert_exporter": "python",
   "pygments_lexer": "ipython3",
   "version": "3.10.14"
  }
 },
 "nbformat": 4,
 "nbformat_minor": 4
}
